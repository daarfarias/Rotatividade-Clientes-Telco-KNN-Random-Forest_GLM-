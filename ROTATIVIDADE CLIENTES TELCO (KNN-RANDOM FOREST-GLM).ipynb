{
 "cells": [
  {
   "cell_type": "markdown",
   "metadata": {},
   "source": [
    "# ROTATIVIDADE CLIENTES TELCO (KNN-RANDOM FOREST-GLM)"
   ]
  },
  {
   "cell_type": "markdown",
   "metadata": {},
   "source": [
    "> *Preveja o comportamento dos usuários para reter clientes. Você pode analisar todos os dados relevantes do cliente e desenvolver programas focados na retenção de clientes. (IBM Sample Data Sets)*\n",
    "\n",
    "<br>\n",
    "O dataset possui informações sobre rotatividade, serviços contratados (segurança,backup,proteção, etc), informações da conta, tipo de contrato e características dos clientes. O presente projeto seguirá os seguintes passos:<br>\n",
    "\n",
    "\n",
    "* Análise exploratória dos dados\n",
    "<br>\n",
    "* Criação modelos de Machine Learning<br>\n",
    "<br>\n",
    "a) KNN<br>\n",
    "b) Random Forest<br>\n",
    "c) Regressão Logística\n",
    "\n",
    "<br>\n",
    "\n",
    "**Dataset:** https://www.kaggle.com/blastchar/telco-customer-churn"
   ]
  },
  {
   "cell_type": "markdown",
   "metadata": {
    "id": "HviPSpZfDcsX"
   },
   "source": [
    "## 1. CARREGAR PACOTES E IMPORTAR OS DADOS"
   ]
  },
  {
   "cell_type": "code",
   "execution_count": 1,
   "metadata": {
    "colab": {
     "base_uri": "https://localhost:8080/",
     "height": 350
    },
    "id": "yZqKHd-dTVbC",
    "outputId": "0da06898-8431-4b3b-87fe-0ddca67ab8cf"
   },
   "outputs": [
    {
     "name": "stderr",
     "output_type": "stream",
     "text": [
      "Warning message:\n",
      "\"package 'tidyverse' was built under R version 3.6.3\"-- Attaching packages --------------------------------------- tidyverse 1.3.0 --\n",
      "v ggplot2 3.3.3     v purrr   0.3.4\n",
      "v tibble  3.0.6     v dplyr   1.0.4\n",
      "v tidyr   1.1.2     v stringr 1.4.0\n",
      "v readr   1.3.1     v forcats 0.4.0\n",
      "Warning message:\n",
      "\"package 'ggplot2' was built under R version 3.6.3\"Warning message:\n",
      "\"package 'tibble' was built under R version 3.6.3\"Warning message:\n",
      "\"package 'tidyr' was built under R version 3.6.3\"Warning message:\n",
      "\"package 'purrr' was built under R version 3.6.3\"Warning message:\n",
      "\"package 'dplyr' was built under R version 3.6.3\"-- Conflicts ------------------------------------------ tidyverse_conflicts() --\n",
      "x dplyr::filter() masks stats::filter()\n",
      "x dplyr::lag()    masks stats::lag()\n",
      "Warning message:\n",
      "\"package 'gridExtra' was built under R version 3.6.3\"\n",
      "Attaching package: 'gridExtra'\n",
      "\n",
      "The following object is masked from 'package:dplyr':\n",
      "\n",
      "    combine\n",
      "\n",
      "Warning message:\n",
      "\"package 'ISLR' was built under R version 3.6.3\"Warning message:\n",
      "\"package 'caret' was built under R version 3.6.3\"Loading required package: lattice\n",
      "\n",
      "Attaching package: 'caret'\n",
      "\n",
      "The following object is masked from 'package:purrr':\n",
      "\n",
      "    lift\n",
      "\n",
      "Warning message:\n",
      "\"package 'e1071' was built under R version 3.6.3\"Warning message:\n",
      "\"package 'DMwR' was built under R version 3.6.3\"Loading required package: grid\n",
      "Registered S3 method overwritten by 'xts':\n",
      "  method     from\n",
      "  as.zoo.xts zoo \n",
      "Registered S3 method overwritten by 'quantmod':\n",
      "  method            from\n",
      "  as.zoo.data.frame zoo \n",
      "------------------------------------------------------------------------------\n",
      "You have loaded plyr after dplyr - this is likely to cause problems.\n",
      "If you need functions from both plyr and dplyr, please load plyr first, then dplyr:\n",
      "library(plyr); library(dplyr)\n",
      "------------------------------------------------------------------------------\n",
      "\n",
      "Attaching package: 'plyr'\n",
      "\n",
      "The following object is masked from 'package:DMwR':\n",
      "\n",
      "    join\n",
      "\n",
      "The following objects are masked from 'package:dplyr':\n",
      "\n",
      "    arrange, count, desc, failwith, id, mutate, rename, summarise,\n",
      "    summarize\n",
      "\n",
      "The following object is masked from 'package:purrr':\n",
      "\n",
      "    compact\n",
      "\n",
      "Warning message:\n",
      "\"package 'randomForest' was built under R version 3.6.3\"randomForest 4.6-14\n",
      "Type rfNews() to see new features/changes/bug fixes.\n",
      "\n",
      "Attaching package: 'randomForest'\n",
      "\n",
      "The following object is masked from 'package:gridExtra':\n",
      "\n",
      "    combine\n",
      "\n",
      "The following object is masked from 'package:dplyr':\n",
      "\n",
      "    combine\n",
      "\n",
      "The following object is masked from 'package:ggplot2':\n",
      "\n",
      "    margin\n",
      "\n",
      "Warning message:\n",
      "\"package 'dominanceanalysis' was built under R version 3.6.3\""
     ]
    }
   ],
   "source": [
    "# Carregando pacotes\n",
    "library(tidyverse)\n",
    "library(gridExtra)\n",
    "library(ISLR)\n",
    "library(caret)\n",
    "library(e1071)\n",
    "library(DMwR)\n",
    "library(plyr)\n",
    "library(randomForest)\n",
    "library(dominanceanalysis)"
   ]
  },
  {
   "cell_type": "code",
   "execution_count": 2,
   "metadata": {
    "id": "WQHam5TtTkin"
   },
   "outputs": [],
   "source": [
    "# Importando dados\n",
    "df_telecom<- read.csv(\"telecom.csv\")"
   ]
  },
  {
   "cell_type": "code",
   "execution_count": 3,
   "metadata": {
    "colab": {
     "base_uri": "https://localhost:8080/",
     "height": 833
    },
    "id": "k1Smc_oHTktC",
    "outputId": "a7861ded-56e3-48fa-a66f-46226366b3ca"
   },
   "outputs": [
    {
     "data": {
      "text/plain": [
       "      customerID      gender     SeniorCitizen    Partner    Dependents\n",
       " 0002-ORFBO:   1   Female:3488   Min.   :0.0000   No :3641   No :4933  \n",
       " 0003-MKNFE:   1   Male  :3555   1st Qu.:0.0000   Yes:3402   Yes:2110  \n",
       " 0004-TLHLJ:   1                 Median :0.0000                        \n",
       " 0011-IGKFF:   1                 Mean   :0.1621                        \n",
       " 0013-EXCHZ:   1                 3rd Qu.:0.0000                        \n",
       " 0013-MHZWF:   1                 Max.   :1.0000                        \n",
       " (Other)   :7037                                                       \n",
       "     tenure      PhoneService          MultipleLines     InternetService\n",
       " Min.   : 0.00   No : 682     No              :3390   DSL        :2421  \n",
       " 1st Qu.: 9.00   Yes:6361     No phone service: 682   Fiber optic:3096  \n",
       " Median :29.00                Yes             :2971   No         :1526  \n",
       " Mean   :32.37                                                          \n",
       " 3rd Qu.:55.00                                                          \n",
       " Max.   :72.00                                                          \n",
       "                                                                        \n",
       "             OnlineSecurity              OnlineBackup \n",
       " No                 :3498   No                 :3088  \n",
       " No internet service:1526   No internet service:1526  \n",
       " Yes                :2019   Yes                :2429  \n",
       "                                                      \n",
       "                                                      \n",
       "                                                      \n",
       "                                                      \n",
       "            DeviceProtection              TechSupport  \n",
       " No                 :3095    No                 :3473  \n",
       " No internet service:1526    No internet service:1526  \n",
       " Yes                :2422    Yes                :2044  \n",
       "                                                       \n",
       "                                                       \n",
       "                                                       \n",
       "                                                       \n",
       "              StreamingTV              StreamingMovies           Contract   \n",
       " No                 :2810   No                 :2785   Month-to-month:3875  \n",
       " No internet service:1526   No internet service:1526   One year      :1473  \n",
       " Yes                :2707   Yes                :2732   Two year      :1695  \n",
       "                                                                            \n",
       "                                                                            \n",
       "                                                                            \n",
       "                                                                            \n",
       " PaperlessBilling                   PaymentMethod  MonthlyCharges  \n",
       " No :2872         Bank transfer (automatic):1544   Min.   : 18.25  \n",
       " Yes:4171         Credit card (automatic)  :1522   1st Qu.: 35.50  \n",
       "                  Electronic check         :2365   Median : 70.35  \n",
       "                  Mailed check             :1612   Mean   : 64.76  \n",
       "                                                   3rd Qu.: 89.85  \n",
       "                                                   Max.   :118.75  \n",
       "                                                                   \n",
       "  TotalCharges    Churn     \n",
       " Min.   :  18.8   No :5174  \n",
       " 1st Qu.: 401.4   Yes:1869  \n",
       " Median :1397.5             \n",
       " Mean   :2283.3             \n",
       " 3rd Qu.:3794.7             \n",
       " Max.   :8684.8             \n",
       " NA's   :11                 "
      ]
     },
     "metadata": {},
     "output_type": "display_data"
    }
   ],
   "source": [
    "# Summário dos dados\n",
    "summary(df_telecom)"
   ]
  },
  {
   "cell_type": "code",
   "execution_count": 4,
   "metadata": {
    "id": "B5DxsNxFTkw_"
   },
   "outputs": [
    {
     "data": {
      "text/html": [
       "<table>\n",
       "<thead><tr><th scope=col>customerID</th><th scope=col>gender</th><th scope=col>SeniorCitizen</th><th scope=col>Partner</th><th scope=col>Dependents</th><th scope=col>tenure</th><th scope=col>PhoneService</th><th scope=col>MultipleLines</th><th scope=col>InternetService</th><th scope=col>OnlineSecurity</th><th scope=col>...</th><th scope=col>DeviceProtection</th><th scope=col>TechSupport</th><th scope=col>StreamingTV</th><th scope=col>StreamingMovies</th><th scope=col>Contract</th><th scope=col>PaperlessBilling</th><th scope=col>PaymentMethod</th><th scope=col>MonthlyCharges</th><th scope=col>TotalCharges</th><th scope=col>Churn</th></tr></thead>\n",
       "<tbody>\n",
       "\t<tr><td>7590-VHVEG               </td><td>Female                   </td><td>0                        </td><td>Yes                      </td><td>No                       </td><td> 1                       </td><td>No                       </td><td>No phone service         </td><td>DSL                      </td><td>No                       </td><td>...                      </td><td>No                       </td><td>No                       </td><td>No                       </td><td>No                       </td><td>Month-to-month           </td><td>Yes                      </td><td>Electronic check         </td><td>29.85                    </td><td>  29.85                  </td><td>No                       </td></tr>\n",
       "\t<tr><td>5575-GNVDE               </td><td>Male                     </td><td>0                        </td><td>No                       </td><td>No                       </td><td>34                       </td><td>Yes                      </td><td>No                       </td><td>DSL                      </td><td>Yes                      </td><td>...                      </td><td>Yes                      </td><td>No                       </td><td>No                       </td><td>No                       </td><td>One year                 </td><td>No                       </td><td>Mailed check             </td><td>56.95                    </td><td>1889.50                  </td><td>No                       </td></tr>\n",
       "\t<tr><td>3668-QPYBK               </td><td>Male                     </td><td>0                        </td><td>No                       </td><td>No                       </td><td> 2                       </td><td>Yes                      </td><td>No                       </td><td>DSL                      </td><td>Yes                      </td><td>...                      </td><td>No                       </td><td>No                       </td><td>No                       </td><td>No                       </td><td>Month-to-month           </td><td>Yes                      </td><td>Mailed check             </td><td>53.85                    </td><td> 108.15                  </td><td>Yes                      </td></tr>\n",
       "\t<tr><td>7795-CFOCW               </td><td>Male                     </td><td>0                        </td><td>No                       </td><td>No                       </td><td>45                       </td><td>No                       </td><td>No phone service         </td><td>DSL                      </td><td>Yes                      </td><td>...                      </td><td>Yes                      </td><td>Yes                      </td><td>No                       </td><td>No                       </td><td>One year                 </td><td>No                       </td><td>Bank transfer (automatic)</td><td>42.30                    </td><td>1840.75                  </td><td>No                       </td></tr>\n",
       "\t<tr><td>9237-HQITU               </td><td>Female                   </td><td>0                        </td><td>No                       </td><td>No                       </td><td> 2                       </td><td>Yes                      </td><td>No                       </td><td>Fiber optic              </td><td>No                       </td><td>...                      </td><td>No                       </td><td>No                       </td><td>No                       </td><td>No                       </td><td>Month-to-month           </td><td>Yes                      </td><td>Electronic check         </td><td>70.70                    </td><td> 151.65                  </td><td>Yes                      </td></tr>\n",
       "\t<tr><td>9305-CDSKC               </td><td>Female                   </td><td>0                        </td><td>No                       </td><td>No                       </td><td> 8                       </td><td>Yes                      </td><td>Yes                      </td><td>Fiber optic              </td><td>No                       </td><td>...                      </td><td>Yes                      </td><td>No                       </td><td>Yes                      </td><td>Yes                      </td><td>Month-to-month           </td><td>Yes                      </td><td>Electronic check         </td><td>99.65                    </td><td> 820.50                  </td><td>Yes                      </td></tr>\n",
       "</tbody>\n",
       "</table>\n"
      ],
      "text/latex": [
       "\\begin{tabular}{r|lllllllllllllllllllll}\n",
       " customerID & gender & SeniorCitizen & Partner & Dependents & tenure & PhoneService & MultipleLines & InternetService & OnlineSecurity & ... & DeviceProtection & TechSupport & StreamingTV & StreamingMovies & Contract & PaperlessBilling & PaymentMethod & MonthlyCharges & TotalCharges & Churn\\\\\n",
       "\\hline\n",
       "\t 7590-VHVEG                & Female                    & 0                         & Yes                       & No                        &  1                        & No                        & No phone service          & DSL                       & No                        & ...                       & No                        & No                        & No                        & No                        & Month-to-month            & Yes                       & Electronic check          & 29.85                     &   29.85                   & No                       \\\\\n",
       "\t 5575-GNVDE                & Male                      & 0                         & No                        & No                        & 34                        & Yes                       & No                        & DSL                       & Yes                       & ...                       & Yes                       & No                        & No                        & No                        & One year                  & No                        & Mailed check              & 56.95                     & 1889.50                   & No                       \\\\\n",
       "\t 3668-QPYBK                & Male                      & 0                         & No                        & No                        &  2                        & Yes                       & No                        & DSL                       & Yes                       & ...                       & No                        & No                        & No                        & No                        & Month-to-month            & Yes                       & Mailed check              & 53.85                     &  108.15                   & Yes                      \\\\\n",
       "\t 7795-CFOCW                & Male                      & 0                         & No                        & No                        & 45                        & No                        & No phone service          & DSL                       & Yes                       & ...                       & Yes                       & Yes                       & No                        & No                        & One year                  & No                        & Bank transfer (automatic) & 42.30                     & 1840.75                   & No                       \\\\\n",
       "\t 9237-HQITU                & Female                    & 0                         & No                        & No                        &  2                        & Yes                       & No                        & Fiber optic               & No                        & ...                       & No                        & No                        & No                        & No                        & Month-to-month            & Yes                       & Electronic check          & 70.70                     &  151.65                   & Yes                      \\\\\n",
       "\t 9305-CDSKC                & Female                    & 0                         & No                        & No                        &  8                        & Yes                       & Yes                       & Fiber optic               & No                        & ...                       & Yes                       & No                        & Yes                       & Yes                       & Month-to-month            & Yes                       & Electronic check          & 99.65                     &  820.50                   & Yes                      \\\\\n",
       "\\end{tabular}\n"
      ],
      "text/markdown": [
       "\n",
       "| customerID | gender | SeniorCitizen | Partner | Dependents | tenure | PhoneService | MultipleLines | InternetService | OnlineSecurity | ... | DeviceProtection | TechSupport | StreamingTV | StreamingMovies | Contract | PaperlessBilling | PaymentMethod | MonthlyCharges | TotalCharges | Churn |\n",
       "|---|---|---|---|---|---|---|---|---|---|---|---|---|---|---|---|---|---|---|---|---|\n",
       "| 7590-VHVEG                | Female                    | 0                         | Yes                       | No                        |  1                        | No                        | No phone service          | DSL                       | No                        | ...                       | No                        | No                        | No                        | No                        | Month-to-month            | Yes                       | Electronic check          | 29.85                     |   29.85                   | No                        |\n",
       "| 5575-GNVDE                | Male                      | 0                         | No                        | No                        | 34                        | Yes                       | No                        | DSL                       | Yes                       | ...                       | Yes                       | No                        | No                        | No                        | One year                  | No                        | Mailed check              | 56.95                     | 1889.50                   | No                        |\n",
       "| 3668-QPYBK                | Male                      | 0                         | No                        | No                        |  2                        | Yes                       | No                        | DSL                       | Yes                       | ...                       | No                        | No                        | No                        | No                        | Month-to-month            | Yes                       | Mailed check              | 53.85                     |  108.15                   | Yes                       |\n",
       "| 7795-CFOCW                | Male                      | 0                         | No                        | No                        | 45                        | No                        | No phone service          | DSL                       | Yes                       | ...                       | Yes                       | Yes                       | No                        | No                        | One year                  | No                        | Bank transfer (automatic) | 42.30                     | 1840.75                   | No                        |\n",
       "| 9237-HQITU                | Female                    | 0                         | No                        | No                        |  2                        | Yes                       | No                        | Fiber optic               | No                        | ...                       | No                        | No                        | No                        | No                        | Month-to-month            | Yes                       | Electronic check          | 70.70                     |  151.65                   | Yes                       |\n",
       "| 9305-CDSKC                | Female                    | 0                         | No                        | No                        |  8                        | Yes                       | Yes                       | Fiber optic               | No                        | ...                       | Yes                       | No                        | Yes                       | Yes                       | Month-to-month            | Yes                       | Electronic check          | 99.65                     |  820.50                   | Yes                       |\n",
       "\n"
      ],
      "text/plain": [
       "  customerID gender SeniorCitizen Partner Dependents tenure PhoneService\n",
       "1 7590-VHVEG Female 0             Yes     No          1     No          \n",
       "2 5575-GNVDE Male   0             No      No         34     Yes         \n",
       "3 3668-QPYBK Male   0             No      No          2     Yes         \n",
       "4 7795-CFOCW Male   0             No      No         45     No          \n",
       "5 9237-HQITU Female 0             No      No          2     Yes         \n",
       "6 9305-CDSKC Female 0             No      No          8     Yes         \n",
       "  MultipleLines    InternetService OnlineSecurity ... DeviceProtection\n",
       "1 No phone service DSL             No             ... No              \n",
       "2 No               DSL             Yes            ... Yes             \n",
       "3 No               DSL             Yes            ... No              \n",
       "4 No phone service DSL             Yes            ... Yes             \n",
       "5 No               Fiber optic     No             ... No              \n",
       "6 Yes              Fiber optic     No             ... Yes             \n",
       "  TechSupport StreamingTV StreamingMovies Contract       PaperlessBilling\n",
       "1 No          No          No              Month-to-month Yes             \n",
       "2 No          No          No              One year       No              \n",
       "3 No          No          No              Month-to-month Yes             \n",
       "4 Yes         No          No              One year       No              \n",
       "5 No          No          No              Month-to-month Yes             \n",
       "6 No          Yes         Yes             Month-to-month Yes             \n",
       "  PaymentMethod             MonthlyCharges TotalCharges Churn\n",
       "1 Electronic check          29.85            29.85      No   \n",
       "2 Mailed check              56.95          1889.50      No   \n",
       "3 Mailed check              53.85           108.15      Yes  \n",
       "4 Bank transfer (automatic) 42.30          1840.75      No   \n",
       "5 Electronic check          70.70           151.65      Yes  \n",
       "6 Electronic check          99.65           820.50      Yes  "
      ]
     },
     "metadata": {},
     "output_type": "display_data"
    }
   ],
   "source": [
    "# Visualizar as seis primeiras linhas do dataset\n",
    "head(df_telecom)"
   ]
  },
  {
   "cell_type": "code",
   "execution_count": 5,
   "metadata": {
    "id": "VhpEfa41Tk0r"
   },
   "outputs": [
    {
     "data": {
      "text/html": [
       "<table>\n",
       "<thead><tr><th></th><th scope=col>customerID</th><th scope=col>gender</th><th scope=col>SeniorCitizen</th><th scope=col>Partner</th><th scope=col>Dependents</th><th scope=col>tenure</th><th scope=col>PhoneService</th><th scope=col>MultipleLines</th><th scope=col>InternetService</th><th scope=col>OnlineSecurity</th><th scope=col>...</th><th scope=col>DeviceProtection</th><th scope=col>TechSupport</th><th scope=col>StreamingTV</th><th scope=col>StreamingMovies</th><th scope=col>Contract</th><th scope=col>PaperlessBilling</th><th scope=col>PaymentMethod</th><th scope=col>MonthlyCharges</th><th scope=col>TotalCharges</th><th scope=col>Churn</th></tr></thead>\n",
       "<tbody>\n",
       "\t<tr><th scope=row>7038</th><td>2569-WGERO               </td><td>Female                   </td><td>0                        </td><td>No                       </td><td>No                       </td><td>72                       </td><td>Yes                      </td><td>No                       </td><td>No                       </td><td>No internet service      </td><td>...                      </td><td>No internet service      </td><td>No internet service      </td><td>No internet service      </td><td>No internet service      </td><td>Two year                 </td><td>Yes                      </td><td>Bank transfer (automatic)</td><td> 21.15                   </td><td>1419.40                  </td><td>No                       </td></tr>\n",
       "\t<tr><th scope=row>7039</th><td>6840-RESVB               </td><td>Male                     </td><td>0                        </td><td>Yes                      </td><td>Yes                      </td><td>24                       </td><td>Yes                      </td><td>Yes                      </td><td>DSL                      </td><td>Yes                      </td><td>...                      </td><td>Yes                      </td><td>Yes                      </td><td>Yes                      </td><td>Yes                      </td><td>One year                 </td><td>Yes                      </td><td>Mailed check             </td><td> 84.80                   </td><td>1990.50                  </td><td>No                       </td></tr>\n",
       "\t<tr><th scope=row>7040</th><td>2234-XADUH               </td><td>Female                   </td><td>0                        </td><td>Yes                      </td><td>Yes                      </td><td>72                       </td><td>Yes                      </td><td>Yes                      </td><td>Fiber optic              </td><td>No                       </td><td>...                      </td><td>Yes                      </td><td>No                       </td><td>Yes                      </td><td>Yes                      </td><td>One year                 </td><td>Yes                      </td><td>Credit card (automatic)  </td><td>103.20                   </td><td>7362.90                  </td><td>No                       </td></tr>\n",
       "\t<tr><th scope=row>7041</th><td>4801-JZAZL               </td><td>Female                   </td><td>0                        </td><td>Yes                      </td><td>Yes                      </td><td>11                       </td><td>No                       </td><td>No phone service         </td><td>DSL                      </td><td>Yes                      </td><td>...                      </td><td>No                       </td><td>No                       </td><td>No                       </td><td>No                       </td><td>Month-to-month           </td><td>Yes                      </td><td>Electronic check         </td><td> 29.60                   </td><td> 346.45                  </td><td>No                       </td></tr>\n",
       "\t<tr><th scope=row>7042</th><td>8361-LTMKD               </td><td>Male                     </td><td>1                        </td><td>Yes                      </td><td>No                       </td><td> 4                       </td><td>Yes                      </td><td>Yes                      </td><td>Fiber optic              </td><td>No                       </td><td>...                      </td><td>No                       </td><td>No                       </td><td>No                       </td><td>No                       </td><td>Month-to-month           </td><td>Yes                      </td><td>Mailed check             </td><td> 74.40                   </td><td> 306.60                  </td><td>Yes                      </td></tr>\n",
       "\t<tr><th scope=row>7043</th><td>3186-AJIEK               </td><td>Male                     </td><td>0                        </td><td>No                       </td><td>No                       </td><td>66                       </td><td>Yes                      </td><td>No                       </td><td>Fiber optic              </td><td>Yes                      </td><td>...                      </td><td>Yes                      </td><td>Yes                      </td><td>Yes                      </td><td>Yes                      </td><td>Two year                 </td><td>Yes                      </td><td>Bank transfer (automatic)</td><td>105.65                   </td><td>6844.50                  </td><td>No                       </td></tr>\n",
       "</tbody>\n",
       "</table>\n"
      ],
      "text/latex": [
       "\\begin{tabular}{r|lllllllllllllllllllll}\n",
       "  & customerID & gender & SeniorCitizen & Partner & Dependents & tenure & PhoneService & MultipleLines & InternetService & OnlineSecurity & ... & DeviceProtection & TechSupport & StreamingTV & StreamingMovies & Contract & PaperlessBilling & PaymentMethod & MonthlyCharges & TotalCharges & Churn\\\\\n",
       "\\hline\n",
       "\t7038 & 2569-WGERO                & Female                    & 0                         & No                        & No                        & 72                        & Yes                       & No                        & No                        & No internet service       & ...                       & No internet service       & No internet service       & No internet service       & No internet service       & Two year                  & Yes                       & Bank transfer (automatic) &  21.15                    & 1419.40                   & No                       \\\\\n",
       "\t7039 & 6840-RESVB                & Male                      & 0                         & Yes                       & Yes                       & 24                        & Yes                       & Yes                       & DSL                       & Yes                       & ...                       & Yes                       & Yes                       & Yes                       & Yes                       & One year                  & Yes                       & Mailed check              &  84.80                    & 1990.50                   & No                       \\\\\n",
       "\t7040 & 2234-XADUH                & Female                    & 0                         & Yes                       & Yes                       & 72                        & Yes                       & Yes                       & Fiber optic               & No                        & ...                       & Yes                       & No                        & Yes                       & Yes                       & One year                  & Yes                       & Credit card (automatic)   & 103.20                    & 7362.90                   & No                       \\\\\n",
       "\t7041 & 4801-JZAZL                & Female                    & 0                         & Yes                       & Yes                       & 11                        & No                        & No phone service          & DSL                       & Yes                       & ...                       & No                        & No                        & No                        & No                        & Month-to-month            & Yes                       & Electronic check          &  29.60                    &  346.45                   & No                       \\\\\n",
       "\t7042 & 8361-LTMKD                & Male                      & 1                         & Yes                       & No                        &  4                        & Yes                       & Yes                       & Fiber optic               & No                        & ...                       & No                        & No                        & No                        & No                        & Month-to-month            & Yes                       & Mailed check              &  74.40                    &  306.60                   & Yes                      \\\\\n",
       "\t7043 & 3186-AJIEK                & Male                      & 0                         & No                        & No                        & 66                        & Yes                       & No                        & Fiber optic               & Yes                       & ...                       & Yes                       & Yes                       & Yes                       & Yes                       & Two year                  & Yes                       & Bank transfer (automatic) & 105.65                    & 6844.50                   & No                       \\\\\n",
       "\\end{tabular}\n"
      ],
      "text/markdown": [
       "\n",
       "| <!--/--> | customerID | gender | SeniorCitizen | Partner | Dependents | tenure | PhoneService | MultipleLines | InternetService | OnlineSecurity | ... | DeviceProtection | TechSupport | StreamingTV | StreamingMovies | Contract | PaperlessBilling | PaymentMethod | MonthlyCharges | TotalCharges | Churn |\n",
       "|---|---|---|---|---|---|---|---|---|---|---|---|---|---|---|---|---|---|---|---|---|---|\n",
       "| 7038 | 2569-WGERO                | Female                    | 0                         | No                        | No                        | 72                        | Yes                       | No                        | No                        | No internet service       | ...                       | No internet service       | No internet service       | No internet service       | No internet service       | Two year                  | Yes                       | Bank transfer (automatic) |  21.15                    | 1419.40                   | No                        |\n",
       "| 7039 | 6840-RESVB                | Male                      | 0                         | Yes                       | Yes                       | 24                        | Yes                       | Yes                       | DSL                       | Yes                       | ...                       | Yes                       | Yes                       | Yes                       | Yes                       | One year                  | Yes                       | Mailed check              |  84.80                    | 1990.50                   | No                        |\n",
       "| 7040 | 2234-XADUH                | Female                    | 0                         | Yes                       | Yes                       | 72                        | Yes                       | Yes                       | Fiber optic               | No                        | ...                       | Yes                       | No                        | Yes                       | Yes                       | One year                  | Yes                       | Credit card (automatic)   | 103.20                    | 7362.90                   | No                        |\n",
       "| 7041 | 4801-JZAZL                | Female                    | 0                         | Yes                       | Yes                       | 11                        | No                        | No phone service          | DSL                       | Yes                       | ...                       | No                        | No                        | No                        | No                        | Month-to-month            | Yes                       | Electronic check          |  29.60                    |  346.45                   | No                        |\n",
       "| 7042 | 8361-LTMKD                | Male                      | 1                         | Yes                       | No                        |  4                        | Yes                       | Yes                       | Fiber optic               | No                        | ...                       | No                        | No                        | No                        | No                        | Month-to-month            | Yes                       | Mailed check              |  74.40                    |  306.60                   | Yes                       |\n",
       "| 7043 | 3186-AJIEK                | Male                      | 0                         | No                        | No                        | 66                        | Yes                       | No                        | Fiber optic               | Yes                       | ...                       | Yes                       | Yes                       | Yes                       | Yes                       | Two year                  | Yes                       | Bank transfer (automatic) | 105.65                    | 6844.50                   | No                        |\n",
       "\n"
      ],
      "text/plain": [
       "     customerID gender SeniorCitizen Partner Dependents tenure PhoneService\n",
       "7038 2569-WGERO Female 0             No      No         72     Yes         \n",
       "7039 6840-RESVB Male   0             Yes     Yes        24     Yes         \n",
       "7040 2234-XADUH Female 0             Yes     Yes        72     Yes         \n",
       "7041 4801-JZAZL Female 0             Yes     Yes        11     No          \n",
       "7042 8361-LTMKD Male   1             Yes     No          4     Yes         \n",
       "7043 3186-AJIEK Male   0             No      No         66     Yes         \n",
       "     MultipleLines    InternetService OnlineSecurity      ...\n",
       "7038 No               No              No internet service ...\n",
       "7039 Yes              DSL             Yes                 ...\n",
       "7040 Yes              Fiber optic     No                  ...\n",
       "7041 No phone service DSL             Yes                 ...\n",
       "7042 Yes              Fiber optic     No                  ...\n",
       "7043 No               Fiber optic     Yes                 ...\n",
       "     DeviceProtection    TechSupport         StreamingTV        \n",
       "7038 No internet service No internet service No internet service\n",
       "7039 Yes                 Yes                 Yes                \n",
       "7040 Yes                 No                  Yes                \n",
       "7041 No                  No                  No                 \n",
       "7042 No                  No                  No                 \n",
       "7043 Yes                 Yes                 Yes                \n",
       "     StreamingMovies     Contract       PaperlessBilling\n",
       "7038 No internet service Two year       Yes             \n",
       "7039 Yes                 One year       Yes             \n",
       "7040 Yes                 One year       Yes             \n",
       "7041 No                  Month-to-month Yes             \n",
       "7042 No                  Month-to-month Yes             \n",
       "7043 Yes                 Two year       Yes             \n",
       "     PaymentMethod             MonthlyCharges TotalCharges Churn\n",
       "7038 Bank transfer (automatic)  21.15         1419.40      No   \n",
       "7039 Mailed check               84.80         1990.50      No   \n",
       "7040 Credit card (automatic)   103.20         7362.90      No   \n",
       "7041 Electronic check           29.60          346.45      No   \n",
       "7042 Mailed check               74.40          306.60      Yes  \n",
       "7043 Bank transfer (automatic) 105.65         6844.50      No   "
      ]
     },
     "metadata": {},
     "output_type": "display_data"
    }
   ],
   "source": [
    "# Visualizar as seis últimas linhas do dataset\n",
    "tail(df_telecom)"
   ]
  },
  {
   "cell_type": "code",
   "execution_count": 6,
   "metadata": {
    "id": "qJvAZS0BTk4B"
   },
   "outputs": [
    {
     "name": "stdout",
     "output_type": "stream",
     "text": [
      "Rows: 7,043\n",
      "Columns: 21\n",
      "$ customerID       <fct> 7590-VHVEG, 5575-GNVDE, 3668-QPYBK, 7795-CFOCW, 9237-~\n",
      "$ gender           <fct> Female, Male, Male, Male, Female, Female, Male, Femal~\n",
      "$ SeniorCitizen    <int> 0, 0, 0, 0, 0, 0, 0, 0, 0, 0, 0, 0, 0, 0, 0, 0, 0, 0,~\n",
      "$ Partner          <fct> Yes, No, No, No, No, No, No, No, Yes, No, Yes, No, Ye~\n",
      "$ Dependents       <fct> No, No, No, No, No, No, Yes, No, No, Yes, Yes, No, No~\n",
      "$ tenure           <int> 1, 34, 2, 45, 2, 8, 22, 10, 28, 62, 13, 16, 58, 49, 2~\n",
      "$ PhoneService     <fct> No, Yes, Yes, No, Yes, Yes, Yes, No, Yes, Yes, Yes, Y~\n",
      "$ MultipleLines    <fct> No phone service, No, No, No phone service, No, Yes, ~\n",
      "$ InternetService  <fct> DSL, DSL, DSL, DSL, Fiber optic, Fiber optic, Fiber o~\n",
      "$ OnlineSecurity   <fct> No, Yes, Yes, Yes, No, No, No, Yes, No, Yes, Yes, No ~\n",
      "$ OnlineBackup     <fct> Yes, No, Yes, No, No, No, Yes, No, No, Yes, No, No in~\n",
      "$ DeviceProtection <fct> No, Yes, No, Yes, No, Yes, No, No, Yes, No, No, No in~\n",
      "$ TechSupport      <fct> No, No, No, Yes, No, No, No, No, Yes, No, No, No inte~\n",
      "$ StreamingTV      <fct> No, No, No, No, No, Yes, Yes, No, Yes, No, No, No int~\n",
      "$ StreamingMovies  <fct> No, No, No, No, No, Yes, No, No, Yes, No, No, No inte~\n",
      "$ Contract         <fct> Month-to-month, One year, Month-to-month, One year, M~\n",
      "$ PaperlessBilling <fct> Yes, No, Yes, No, Yes, Yes, Yes, No, Yes, No, Yes, No~\n",
      "$ PaymentMethod    <fct> Electronic check, Mailed check, Mailed check, Bank tr~\n",
      "$ MonthlyCharges   <dbl> 29.85, 56.95, 53.85, 42.30, 70.70, 99.65, 89.10, 29.7~\n",
      "$ TotalCharges     <dbl> 29.85, 1889.50, 108.15, 1840.75, 151.65, 820.50, 1949~\n",
      "$ Churn            <fct> No, No, Yes, No, Yes, Yes, No, No, Yes, No, No, No, N~\n"
     ]
    }
   ],
   "source": [
    "# Visão geral do dataset\n",
    "glimpse(df_telecom)"
   ]
  },
  {
   "cell_type": "code",
   "execution_count": 7,
   "metadata": {
    "id": "OpG1IQo3DhYe"
   },
   "outputs": [
    {
     "data": {
      "text/html": [
       "<dl class=dl-horizontal>\n",
       "\t<dt>customerID</dt>\n",
       "\t\t<dd>0</dd>\n",
       "\t<dt>gender</dt>\n",
       "\t\t<dd>0</dd>\n",
       "\t<dt>SeniorCitizen</dt>\n",
       "\t\t<dd>0</dd>\n",
       "\t<dt>Partner</dt>\n",
       "\t\t<dd>0</dd>\n",
       "\t<dt>Dependents</dt>\n",
       "\t\t<dd>0</dd>\n",
       "\t<dt>tenure</dt>\n",
       "\t\t<dd>0</dd>\n",
       "\t<dt>PhoneService</dt>\n",
       "\t\t<dd>0</dd>\n",
       "\t<dt>MultipleLines</dt>\n",
       "\t\t<dd>0</dd>\n",
       "\t<dt>InternetService</dt>\n",
       "\t\t<dd>0</dd>\n",
       "\t<dt>OnlineSecurity</dt>\n",
       "\t\t<dd>0</dd>\n",
       "\t<dt>OnlineBackup</dt>\n",
       "\t\t<dd>0</dd>\n",
       "\t<dt>DeviceProtection</dt>\n",
       "\t\t<dd>0</dd>\n",
       "\t<dt>TechSupport</dt>\n",
       "\t\t<dd>0</dd>\n",
       "\t<dt>StreamingTV</dt>\n",
       "\t\t<dd>0</dd>\n",
       "\t<dt>StreamingMovies</dt>\n",
       "\t\t<dd>0</dd>\n",
       "\t<dt>Contract</dt>\n",
       "\t\t<dd>0</dd>\n",
       "\t<dt>PaperlessBilling</dt>\n",
       "\t\t<dd>0</dd>\n",
       "\t<dt>PaymentMethod</dt>\n",
       "\t\t<dd>0</dd>\n",
       "\t<dt>MonthlyCharges</dt>\n",
       "\t\t<dd>0</dd>\n",
       "\t<dt>TotalCharges</dt>\n",
       "\t\t<dd>11</dd>\n",
       "\t<dt>Churn</dt>\n",
       "\t\t<dd>0</dd>\n",
       "</dl>\n"
      ],
      "text/latex": [
       "\\begin{description*}\n",
       "\\item[customerID] 0\n",
       "\\item[gender] 0\n",
       "\\item[SeniorCitizen] 0\n",
       "\\item[Partner] 0\n",
       "\\item[Dependents] 0\n",
       "\\item[tenure] 0\n",
       "\\item[PhoneService] 0\n",
       "\\item[MultipleLines] 0\n",
       "\\item[InternetService] 0\n",
       "\\item[OnlineSecurity] 0\n",
       "\\item[OnlineBackup] 0\n",
       "\\item[DeviceProtection] 0\n",
       "\\item[TechSupport] 0\n",
       "\\item[StreamingTV] 0\n",
       "\\item[StreamingMovies] 0\n",
       "\\item[Contract] 0\n",
       "\\item[PaperlessBilling] 0\n",
       "\\item[PaymentMethod] 0\n",
       "\\item[MonthlyCharges] 0\n",
       "\\item[TotalCharges] 11\n",
       "\\item[Churn] 0\n",
       "\\end{description*}\n"
      ],
      "text/markdown": [
       "customerID\n",
       ":   0gender\n",
       ":   0SeniorCitizen\n",
       ":   0Partner\n",
       ":   0Dependents\n",
       ":   0tenure\n",
       ":   0PhoneService\n",
       ":   0MultipleLines\n",
       ":   0InternetService\n",
       ":   0OnlineSecurity\n",
       ":   0OnlineBackup\n",
       ":   0DeviceProtection\n",
       ":   0TechSupport\n",
       ":   0StreamingTV\n",
       ":   0StreamingMovies\n",
       ":   0Contract\n",
       ":   0PaperlessBilling\n",
       ":   0PaymentMethod\n",
       ":   0MonthlyCharges\n",
       ":   0TotalCharges\n",
       ":   11Churn\n",
       ":   0\n",
       "\n"
      ],
      "text/plain": [
       "      customerID           gender    SeniorCitizen          Partner \n",
       "               0                0                0                0 \n",
       "      Dependents           tenure     PhoneService    MultipleLines \n",
       "               0                0                0                0 \n",
       " InternetService   OnlineSecurity     OnlineBackup DeviceProtection \n",
       "               0                0                0                0 \n",
       "     TechSupport      StreamingTV  StreamingMovies         Contract \n",
       "               0                0                0                0 \n",
       "PaperlessBilling    PaymentMethod   MonthlyCharges     TotalCharges \n",
       "               0                0                0               11 \n",
       "           Churn \n",
       "               0 "
      ]
     },
     "metadata": {},
     "output_type": "display_data"
    }
   ],
   "source": [
    "# Checando NAs\n",
    "sapply(df_telecom,function(x) sum(is.na(x)))"
   ]
  },
  {
   "cell_type": "markdown",
   "metadata": {
    "id": "xLjcNJsjEQpp"
   },
   "source": [
    "## 2. LIMPEZA, TRANSFORMAÇÃO E ANÁLISE EXPLORATÓRIA DOS DADOS"
   ]
  },
  {
   "cell_type": "markdown",
   "metadata": {},
   "source": [
    "* Removeremos a coluna ID pois não possui utilidade para o nosso propósito.\n",
    "* A variável **TotalCharges** apresenta 11 valores NAs, resolvemos retirá-los uma vez que são poucos valores.\n",
    "* Iremos recodificar as variáveis **OnlineSecurity**, **OnlineBackup**, **DeviceProtection**, **TechSupport**, **StreamingTV**, **StreamingMovies** e **MultipleLines**, transformando os valores \"No internet service\" ou \"No phone service\" para \"No\".\n",
    "* Transformaremos os fatores em números."
   ]
  },
  {
   "cell_type": "code",
   "execution_count": 8,
   "metadata": {
    "id": "XvPErTz9EXjq"
   },
   "outputs": [],
   "source": [
    "# Removendo variáveis sem utilidade\n",
    "df_telecom<-df_telecom[-1]"
   ]
  },
  {
   "cell_type": "code",
   "execution_count": 9,
   "metadata": {},
   "outputs": [],
   "source": [
    "# Recodificando variáveis\n",
    "recode <- c(9:14)\n",
    "for(i in 1:ncol(df_telecom[,recode])) {\n",
    "        df_telecom[,recode][,i] <- as.factor(mapvalues\n",
    "                                              (df_telecom[,recode][,i], from =c(\"No internet service\"),to=c(\"No\")))\n",
    "}"
   ]
  },
  {
   "cell_type": "code",
   "execution_count": 10,
   "metadata": {},
   "outputs": [],
   "source": [
    "# Recodificando variável MultipleLines\n",
    "df_telecom$MultipleLines <- as.factor(mapvalues(df_telecom$MultipleLines, \n",
    "                                           from=c(\"No phone service\"),\n",
    "                                           to=c(\"No\")))"
   ]
  },
  {
   "cell_type": "code",
   "execution_count": 11,
   "metadata": {},
   "outputs": [
    {
     "name": "stdout",
     "output_type": "stream",
     "text": [
      "Rows: 7,043\n",
      "Columns: 20\n",
      "$ gender           <fct> Female, Male, Male, Male, Female, Female, Male, Femal~\n",
      "$ SeniorCitizen    <int> 0, 0, 0, 0, 0, 0, 0, 0, 0, 0, 0, 0, 0, 0, 0, 0, 0, 0,~\n",
      "$ Partner          <fct> Yes, No, No, No, No, No, No, No, Yes, No, Yes, No, Ye~\n",
      "$ Dependents       <fct> No, No, No, No, No, No, Yes, No, No, Yes, Yes, No, No~\n",
      "$ tenure           <int> 1, 34, 2, 45, 2, 8, 22, 10, 28, 62, 13, 16, 58, 49, 2~\n",
      "$ PhoneService     <fct> No, Yes, Yes, No, Yes, Yes, Yes, No, Yes, Yes, Yes, Y~\n",
      "$ MultipleLines    <fct> No, No, No, No, No, Yes, Yes, No, Yes, No, No, No, Ye~\n",
      "$ InternetService  <fct> DSL, DSL, DSL, DSL, Fiber optic, Fiber optic, Fiber o~\n",
      "$ OnlineSecurity   <fct> No, Yes, Yes, Yes, No, No, No, Yes, No, Yes, Yes, No,~\n",
      "$ OnlineBackup     <fct> Yes, No, Yes, No, No, No, Yes, No, No, Yes, No, No, N~\n",
      "$ DeviceProtection <fct> No, Yes, No, Yes, No, Yes, No, No, Yes, No, No, No, Y~\n",
      "$ TechSupport      <fct> No, No, No, Yes, No, No, No, No, Yes, No, No, No, No,~\n",
      "$ StreamingTV      <fct> No, No, No, No, No, Yes, Yes, No, Yes, No, No, No, Ye~\n",
      "$ StreamingMovies  <fct> No, No, No, No, No, Yes, No, No, Yes, No, No, No, Yes~\n",
      "$ Contract         <fct> Month-to-month, One year, Month-to-month, One year, M~\n",
      "$ PaperlessBilling <fct> Yes, No, Yes, No, Yes, Yes, Yes, No, Yes, No, Yes, No~\n",
      "$ PaymentMethod    <fct> Electronic check, Mailed check, Mailed check, Bank tr~\n",
      "$ MonthlyCharges   <dbl> 29.85, 56.95, 53.85, 42.30, 70.70, 99.65, 89.10, 29.7~\n",
      "$ TotalCharges     <dbl> 29.85, 1889.50, 108.15, 1840.75, 151.65, 820.50, 1949~\n",
      "$ Churn            <fct> No, No, Yes, No, Yes, Yes, No, No, Yes, No, No, No, N~\n"
     ]
    }
   ],
   "source": [
    "# Visão geral do dataset\n",
    "glimpse(df_telecom)"
   ]
  },
  {
   "cell_type": "code",
   "execution_count": 12,
   "metadata": {},
   "outputs": [],
   "source": [
    "# Transformando categorias em números\n",
    "categoria<- df_telecom %>%\n",
    "select_if(is.factor) %>%\n",
    "sapply(as.integer) -1"
   ]
  },
  {
   "cell_type": "code",
   "execution_count": 13,
   "metadata": {},
   "outputs": [],
   "source": [
    "# Variáveis numéricas\n",
    "numericas<-df_telecom %>%\n",
    "select_if(is.numeric)"
   ]
  },
  {
   "cell_type": "code",
   "execution_count": 14,
   "metadata": {},
   "outputs": [],
   "source": [
    "# Novo dataframe\n",
    "df_telecom2<-as.data.frame(cbind(numericas,categoria))"
   ]
  },
  {
   "cell_type": "code",
   "execution_count": 15,
   "metadata": {},
   "outputs": [
    {
     "name": "stdout",
     "output_type": "stream",
     "text": [
      "Rows: 7,043\n",
      "Columns: 20\n",
      "$ SeniorCitizen    <int> 0, 0, 0, 0, 0, 0, 0, 0, 0, 0, 0, 0, 0, 0, 0, 0, 0, 0,~\n",
      "$ tenure           <int> 1, 34, 2, 45, 2, 8, 22, 10, 28, 62, 13, 16, 58, 49, 2~\n",
      "$ MonthlyCharges   <dbl> 29.85, 56.95, 53.85, 42.30, 70.70, 99.65, 89.10, 29.7~\n",
      "$ TotalCharges     <dbl> 29.85, 1889.50, 108.15, 1840.75, 151.65, 820.50, 1949~\n",
      "$ gender           <dbl> 0, 1, 1, 1, 0, 0, 1, 0, 0, 1, 1, 1, 1, 1, 1, 0, 0, 1,~\n",
      "$ Partner          <dbl> 1, 0, 0, 0, 0, 0, 0, 0, 1, 0, 1, 0, 1, 0, 0, 1, 0, 0,~\n",
      "$ Dependents       <dbl> 0, 0, 0, 0, 0, 0, 1, 0, 0, 1, 1, 0, 0, 0, 0, 1, 0, 1,~\n",
      "$ PhoneService     <dbl> 0, 1, 1, 0, 1, 1, 1, 0, 1, 1, 1, 1, 1, 1, 1, 1, 1, 1,~\n",
      "$ MultipleLines    <dbl> 0, 0, 0, 0, 0, 1, 1, 0, 1, 0, 0, 0, 1, 1, 0, 1, 0, 1,~\n",
      "$ InternetService  <dbl> 0, 0, 0, 0, 1, 1, 1, 0, 1, 0, 0, 2, 1, 1, 1, 1, 2, 1,~\n",
      "$ OnlineSecurity   <dbl> 0, 1, 1, 1, 0, 0, 0, 1, 0, 1, 1, 0, 0, 0, 1, 1, 0, 1,~\n",
      "$ OnlineBackup     <dbl> 1, 0, 1, 0, 0, 0, 1, 0, 0, 1, 0, 0, 0, 1, 0, 1, 0, 0,~\n",
      "$ DeviceProtection <dbl> 0, 1, 0, 1, 0, 1, 0, 0, 1, 0, 0, 0, 1, 1, 1, 1, 0, 1,~\n",
      "$ TechSupport      <dbl> 0, 0, 0, 1, 0, 0, 0, 0, 1, 0, 0, 0, 0, 0, 1, 1, 0, 0,~\n",
      "$ StreamingTV      <dbl> 0, 0, 0, 0, 0, 1, 1, 0, 1, 0, 0, 0, 1, 1, 1, 1, 0, 1,~\n",
      "$ StreamingMovies  <dbl> 0, 0, 0, 0, 0, 1, 0, 0, 1, 0, 0, 0, 1, 1, 1, 1, 0, 1,~\n",
      "$ Contract         <dbl> 0, 1, 0, 1, 0, 0, 0, 0, 0, 1, 0, 2, 1, 0, 0, 2, 1, 2,~\n",
      "$ PaperlessBilling <dbl> 1, 0, 1, 0, 1, 1, 1, 0, 1, 0, 1, 0, 0, 1, 1, 0, 0, 0,~\n",
      "$ PaymentMethod    <dbl> 2, 3, 3, 0, 2, 2, 1, 3, 2, 0, 3, 1, 1, 0, 2, 1, 3, 0,~\n",
      "$ Churn            <dbl> 0, 0, 1, 0, 1, 1, 0, 0, 1, 0, 0, 0, 0, 1, 0, 0, 0, 0,~\n"
     ]
    }
   ],
   "source": [
    "# Visualizando dados\n",
    "glimpse(df_telecom2)"
   ]
  },
  {
   "cell_type": "code",
   "execution_count": 16,
   "metadata": {
    "id": "IWncZ6ryTk8I"
   },
   "outputs": [],
   "source": [
    "# Transformando variáveis em fatores\n",
    "to.factors <- function(df, variables){\n",
    "  for (variable in variables){\n",
    "    df[[variable]] <- as.factor(df[[variable]])\n",
    "  }\n",
    "  return(df)\n",
    "}"
   ]
  },
  {
   "cell_type": "code",
   "execution_count": 17,
   "metadata": {
    "id": "-dNmM3StUkoO"
   },
   "outputs": [],
   "source": [
    "# Variáveis categóricas\n",
    "variaveis_cat<- c(\"gender\",\"SeniorCitizen\",\"Partner\",\"PhoneService\",\"MultipleLines\",\"InternetService\",\"OnlineSecurity\",\"OnlineBackup\",\"DeviceProtection\",\"TechSupport\",\"StreamingTV\",\"StreamingMovies\",\n",
    "\"Contract\",\"PaperlessBilling\",\"PaymentMethod\",\"Churn\")"
   ]
  },
  {
   "cell_type": "code",
   "execution_count": 18,
   "metadata": {
    "id": "3CI_TcA8CxdK"
   },
   "outputs": [],
   "source": [
    "# Transformando variáveis categóricas\n",
    "df_telecom2<-to.factors(df_telecom2,variaveis_cat)"
   ]
  },
  {
   "cell_type": "code",
   "execution_count": 19,
   "metadata": {
    "colab": {
     "base_uri": "https://localhost:8080/"
    },
    "id": "T8UPIf2_CxuX",
    "outputId": "444225a0-e260-43b6-bcf7-d6539218392b"
   },
   "outputs": [
    {
     "name": "stdout",
     "output_type": "stream",
     "text": [
      "Rows: 7,043\n",
      "Columns: 20\n",
      "$ SeniorCitizen    <fct> 0, 0, 0, 0, 0, 0, 0, 0, 0, 0, 0, 0, 0, 0, 0, 0, 0, 0,~\n",
      "$ tenure           <int> 1, 34, 2, 45, 2, 8, 22, 10, 28, 62, 13, 16, 58, 49, 2~\n",
      "$ MonthlyCharges   <dbl> 29.85, 56.95, 53.85, 42.30, 70.70, 99.65, 89.10, 29.7~\n",
      "$ TotalCharges     <dbl> 29.85, 1889.50, 108.15, 1840.75, 151.65, 820.50, 1949~\n",
      "$ gender           <fct> 0, 1, 1, 1, 0, 0, 1, 0, 0, 1, 1, 1, 1, 1, 1, 0, 0, 1,~\n",
      "$ Partner          <fct> 1, 0, 0, 0, 0, 0, 0, 0, 1, 0, 1, 0, 1, 0, 0, 1, 0, 0,~\n",
      "$ Dependents       <dbl> 0, 0, 0, 0, 0, 0, 1, 0, 0, 1, 1, 0, 0, 0, 0, 1, 0, 1,~\n",
      "$ PhoneService     <fct> 0, 1, 1, 0, 1, 1, 1, 0, 1, 1, 1, 1, 1, 1, 1, 1, 1, 1,~\n",
      "$ MultipleLines    <fct> 0, 0, 0, 0, 0, 1, 1, 0, 1, 0, 0, 0, 1, 1, 0, 1, 0, 1,~\n",
      "$ InternetService  <fct> 0, 0, 0, 0, 1, 1, 1, 0, 1, 0, 0, 2, 1, 1, 1, 1, 2, 1,~\n",
      "$ OnlineSecurity   <fct> 0, 1, 1, 1, 0, 0, 0, 1, 0, 1, 1, 0, 0, 0, 1, 1, 0, 1,~\n",
      "$ OnlineBackup     <fct> 1, 0, 1, 0, 0, 0, 1, 0, 0, 1, 0, 0, 0, 1, 0, 1, 0, 0,~\n",
      "$ DeviceProtection <fct> 0, 1, 0, 1, 0, 1, 0, 0, 1, 0, 0, 0, 1, 1, 1, 1, 0, 1,~\n",
      "$ TechSupport      <fct> 0, 0, 0, 1, 0, 0, 0, 0, 1, 0, 0, 0, 0, 0, 1, 1, 0, 0,~\n",
      "$ StreamingTV      <fct> 0, 0, 0, 0, 0, 1, 1, 0, 1, 0, 0, 0, 1, 1, 1, 1, 0, 1,~\n",
      "$ StreamingMovies  <fct> 0, 0, 0, 0, 0, 1, 0, 0, 1, 0, 0, 0, 1, 1, 1, 1, 0, 1,~\n",
      "$ Contract         <fct> 0, 1, 0, 1, 0, 0, 0, 0, 0, 1, 0, 2, 1, 0, 0, 2, 1, 2,~\n",
      "$ PaperlessBilling <fct> 1, 0, 1, 0, 1, 1, 1, 0, 1, 0, 1, 0, 0, 1, 1, 0, 0, 0,~\n",
      "$ PaymentMethod    <fct> 2, 3, 3, 0, 2, 2, 1, 3, 2, 0, 3, 1, 1, 0, 2, 1, 3, 0,~\n",
      "$ Churn            <fct> 0, 0, 1, 0, 1, 1, 0, 0, 1, 0, 0, 0, 0, 1, 0, 0, 0, 0,~\n"
     ]
    }
   ],
   "source": [
    "# Visão geral dos dados\n",
    "glimpse(df_telecom2)"
   ]
  },
  {
   "cell_type": "code",
   "execution_count": 20,
   "metadata": {
    "id": "5yyAj5WmE0ec"
   },
   "outputs": [
    {
     "data": {
      "text/html": [
       "<dl class=dl-horizontal>\n",
       "\t<dt>SeniorCitizen</dt>\n",
       "\t\t<dd>0</dd>\n",
       "\t<dt>tenure</dt>\n",
       "\t\t<dd>0</dd>\n",
       "\t<dt>MonthlyCharges</dt>\n",
       "\t\t<dd>0</dd>\n",
       "\t<dt>TotalCharges</dt>\n",
       "\t\t<dd>11</dd>\n",
       "\t<dt>gender</dt>\n",
       "\t\t<dd>0</dd>\n",
       "\t<dt>Partner</dt>\n",
       "\t\t<dd>0</dd>\n",
       "\t<dt>Dependents</dt>\n",
       "\t\t<dd>0</dd>\n",
       "\t<dt>PhoneService</dt>\n",
       "\t\t<dd>0</dd>\n",
       "\t<dt>MultipleLines</dt>\n",
       "\t\t<dd>0</dd>\n",
       "\t<dt>InternetService</dt>\n",
       "\t\t<dd>0</dd>\n",
       "\t<dt>OnlineSecurity</dt>\n",
       "\t\t<dd>0</dd>\n",
       "\t<dt>OnlineBackup</dt>\n",
       "\t\t<dd>0</dd>\n",
       "\t<dt>DeviceProtection</dt>\n",
       "\t\t<dd>0</dd>\n",
       "\t<dt>TechSupport</dt>\n",
       "\t\t<dd>0</dd>\n",
       "\t<dt>StreamingTV</dt>\n",
       "\t\t<dd>0</dd>\n",
       "\t<dt>StreamingMovies</dt>\n",
       "\t\t<dd>0</dd>\n",
       "\t<dt>Contract</dt>\n",
       "\t\t<dd>0</dd>\n",
       "\t<dt>PaperlessBilling</dt>\n",
       "\t\t<dd>0</dd>\n",
       "\t<dt>PaymentMethod</dt>\n",
       "\t\t<dd>0</dd>\n",
       "\t<dt>Churn</dt>\n",
       "\t\t<dd>0</dd>\n",
       "</dl>\n"
      ],
      "text/latex": [
       "\\begin{description*}\n",
       "\\item[SeniorCitizen] 0\n",
       "\\item[tenure] 0\n",
       "\\item[MonthlyCharges] 0\n",
       "\\item[TotalCharges] 11\n",
       "\\item[gender] 0\n",
       "\\item[Partner] 0\n",
       "\\item[Dependents] 0\n",
       "\\item[PhoneService] 0\n",
       "\\item[MultipleLines] 0\n",
       "\\item[InternetService] 0\n",
       "\\item[OnlineSecurity] 0\n",
       "\\item[OnlineBackup] 0\n",
       "\\item[DeviceProtection] 0\n",
       "\\item[TechSupport] 0\n",
       "\\item[StreamingTV] 0\n",
       "\\item[StreamingMovies] 0\n",
       "\\item[Contract] 0\n",
       "\\item[PaperlessBilling] 0\n",
       "\\item[PaymentMethod] 0\n",
       "\\item[Churn] 0\n",
       "\\end{description*}\n"
      ],
      "text/markdown": [
       "SeniorCitizen\n",
       ":   0tenure\n",
       ":   0MonthlyCharges\n",
       ":   0TotalCharges\n",
       ":   11gender\n",
       ":   0Partner\n",
       ":   0Dependents\n",
       ":   0PhoneService\n",
       ":   0MultipleLines\n",
       ":   0InternetService\n",
       ":   0OnlineSecurity\n",
       ":   0OnlineBackup\n",
       ":   0DeviceProtection\n",
       ":   0TechSupport\n",
       ":   0StreamingTV\n",
       ":   0StreamingMovies\n",
       ":   0Contract\n",
       ":   0PaperlessBilling\n",
       ":   0PaymentMethod\n",
       ":   0Churn\n",
       ":   0\n",
       "\n"
      ],
      "text/plain": [
       "   SeniorCitizen           tenure   MonthlyCharges     TotalCharges \n",
       "               0                0                0               11 \n",
       "          gender          Partner       Dependents     PhoneService \n",
       "               0                0                0                0 \n",
       "   MultipleLines  InternetService   OnlineSecurity     OnlineBackup \n",
       "               0                0                0                0 \n",
       "DeviceProtection      TechSupport      StreamingTV  StreamingMovies \n",
       "               0                0                0                0 \n",
       "        Contract PaperlessBilling    PaymentMethod            Churn \n",
       "               0                0                0                0 "
      ]
     },
     "metadata": {},
     "output_type": "display_data"
    }
   ],
   "source": [
    "# Checando NAs\n",
    "sapply(df_telecom2,function(x) sum(is.na(x)))"
   ]
  },
  {
   "cell_type": "code",
   "execution_count": 21,
   "metadata": {
    "id": "-pUxt-A_FWum"
   },
   "outputs": [],
   "source": [
    "# Remover NAs\n",
    "df_telecom2<-na.omit(df_telecom2)"
   ]
  },
  {
   "cell_type": "code",
   "execution_count": 22,
   "metadata": {
    "id": "a2kAJmHeFfCt"
   },
   "outputs": [
    {
     "name": "stdout",
     "output_type": "stream",
     "text": [
      "Rows: 7,032\n",
      "Columns: 20\n",
      "$ SeniorCitizen    <fct> 0, 0, 0, 0, 0, 0, 0, 0, 0, 0, 0, 0, 0, 0, 0, 0, 0, 0,~\n",
      "$ tenure           <int> 1, 34, 2, 45, 2, 8, 22, 10, 28, 62, 13, 16, 58, 49, 2~\n",
      "$ MonthlyCharges   <dbl> 29.85, 56.95, 53.85, 42.30, 70.70, 99.65, 89.10, 29.7~\n",
      "$ TotalCharges     <dbl> 29.85, 1889.50, 108.15, 1840.75, 151.65, 820.50, 1949~\n",
      "$ gender           <fct> 0, 1, 1, 1, 0, 0, 1, 0, 0, 1, 1, 1, 1, 1, 1, 0, 0, 1,~\n",
      "$ Partner          <fct> 1, 0, 0, 0, 0, 0, 0, 0, 1, 0, 1, 0, 1, 0, 0, 1, 0, 0,~\n",
      "$ Dependents       <dbl> 0, 0, 0, 0, 0, 0, 1, 0, 0, 1, 1, 0, 0, 0, 0, 1, 0, 1,~\n",
      "$ PhoneService     <fct> 0, 1, 1, 0, 1, 1, 1, 0, 1, 1, 1, 1, 1, 1, 1, 1, 1, 1,~\n",
      "$ MultipleLines    <fct> 0, 0, 0, 0, 0, 1, 1, 0, 1, 0, 0, 0, 1, 1, 0, 1, 0, 1,~\n",
      "$ InternetService  <fct> 0, 0, 0, 0, 1, 1, 1, 0, 1, 0, 0, 2, 1, 1, 1, 1, 2, 1,~\n",
      "$ OnlineSecurity   <fct> 0, 1, 1, 1, 0, 0, 0, 1, 0, 1, 1, 0, 0, 0, 1, 1, 0, 1,~\n",
      "$ OnlineBackup     <fct> 1, 0, 1, 0, 0, 0, 1, 0, 0, 1, 0, 0, 0, 1, 0, 1, 0, 0,~\n",
      "$ DeviceProtection <fct> 0, 1, 0, 1, 0, 1, 0, 0, 1, 0, 0, 0, 1, 1, 1, 1, 0, 1,~\n",
      "$ TechSupport      <fct> 0, 0, 0, 1, 0, 0, 0, 0, 1, 0, 0, 0, 0, 0, 1, 1, 0, 0,~\n",
      "$ StreamingTV      <fct> 0, 0, 0, 0, 0, 1, 1, 0, 1, 0, 0, 0, 1, 1, 1, 1, 0, 1,~\n",
      "$ StreamingMovies  <fct> 0, 0, 0, 0, 0, 1, 0, 0, 1, 0, 0, 0, 1, 1, 1, 1, 0, 1,~\n",
      "$ Contract         <fct> 0, 1, 0, 1, 0, 0, 0, 0, 0, 1, 0, 2, 1, 0, 0, 2, 1, 2,~\n",
      "$ PaperlessBilling <fct> 1, 0, 1, 0, 1, 1, 1, 0, 1, 0, 1, 0, 0, 1, 1, 0, 0, 0,~\n",
      "$ PaymentMethod    <fct> 2, 3, 3, 0, 2, 2, 1, 3, 2, 0, 3, 1, 1, 0, 2, 1, 3, 0,~\n",
      "$ Churn            <fct> 0, 0, 1, 0, 1, 1, 0, 0, 1, 0, 0, 0, 0, 1, 0, 0, 0, 0,~\n"
     ]
    }
   ],
   "source": [
    "# Visão geral dos dados sem NAs\n",
    "glimpse(df_telecom2)"
   ]
  },
  {
   "cell_type": "markdown",
   "metadata": {
    "id": "RZee1tZIUIQQ"
   },
   "source": [
    "**Dicionário das variáveis**\n",
    "<br>\n",
    "customerID - customer id <br>\n",
    "gender - client gender (male / female) <br>\n",
    "SeniorCitizen - is the client retired (1, 0) <br>\n",
    "Partner - is the client married (Yes, No) <br>\n",
    "tenure - how many months a person has been a client of the company <br>\n",
    "PhoneService - is the telephone service connected (Yes, No) <br>\n",
    "MultipleLines - are multiple phone lines connected (Yes, No, No phone service) <br>\n",
    "InternetService - client's Internet service provider (DSL, Fiber optic, No) <br>\n",
    "OnlineSecurity - is the online security service connected (Yes, No, No internet service) <br>\n",
    "OnlineBackup - is the online backup service activated (Yes, No, No internet service) <br>\n",
    "DeviceProtection - does the client have equipment insurance (Yes, No, No internet service) <br>\n",
    "TechSupport - is the technical support service connected (Yes, No, No internet service) <br>\n",
    "StreamingTV - is the streaming TV service connected (Yes, No, No internet service) <br>\n",
    "StreamingMovies - is the streaming cinema service activated (Yes, No, No internet service) <br>\n",
    "Contract - type of customer contract (Month-to-month, One year, Two year) <br>\n",
    "PaperlessBilling - whether the client uses paperless billing (Yes, No) <br>\n",
    "PaymentMethod - payment method (Electronic check, Mailed check, Bank transfer (automatic), Credit card (automatic)) <br>\n",
    "MonthlyCharges - current monthly payment <br>\n",
    "TotalCharges - the total amount that the client paid for the services for the entire time <br>\n",
    "Churn - whether there was a churn (Yes or No)"
   ]
  },
  {
   "cell_type": "markdown",
   "metadata": {
    "id": "tcI9OAX2Fwbo"
   },
   "source": [
    "### PLOTANDO VARIÁVEIS"
   ]
  },
  {
   "cell_type": "code",
   "execution_count": 23,
   "metadata": {
    "id": "5Yb5HvLyUmHl"
   },
   "outputs": [],
   "source": [
    "# Plotando variável gender\n",
    "plot1<-df_telecom2 %>%\n",
    "ggplot(aes(gender,fill=gender)) +\n",
    "geom_bar(alpha=.5,show.legend=F) +\n",
    "scale_x_discrete(labels = c(\"Feminino\",\"Masculino\")) +\n",
    "labs(title=\"Gênero\",y=NULL,x=NULL)+\n",
    "theme(plot.title = element_text(hjust = 0.5))"
   ]
  },
  {
   "cell_type": "code",
   "execution_count": 24,
   "metadata": {
    "id": "x84hi6XIUmLB"
   },
   "outputs": [],
   "source": [
    "# Plotando variável SeniorCitizen\n",
    "plot2<-df_telecom2 %>%\n",
    "ggplot(aes(SeniorCitizen,fill=SeniorCitizen)) +\n",
    "geom_bar(alpha=.5,show.legend=F) + \n",
    "scale_x_discrete(labels = c(\"Ativo\",\"Aposentado\")) +\n",
    "labs(title=\"Cliente Aposentado\",y=NULL,x=NULL)+\n",
    "theme(plot.title = element_text(hjust = 0.5))"
   ]
  },
  {
   "cell_type": "code",
   "execution_count": 25,
   "metadata": {
    "id": "LLtFyrz6UmOs"
   },
   "outputs": [],
   "source": [
    "# Plotando a variável Partner\n",
    "plot3<-df_telecom2 %>%\n",
    "ggplot(aes(Partner,fill=Partner)) +\n",
    "geom_bar(alpha=.5,show.legend=F) +\n",
    "scale_x_discrete(labels = c(\"Não\",\"Sim\")) +\n",
    "labs(title=\"O Cliente é Casado?\",y=NULL,x=NULL)+\n",
    "theme(plot.title = element_text(hjust = 0.5))"
   ]
  },
  {
   "cell_type": "code",
   "execution_count": 26,
   "metadata": {
    "id": "dZYd1FPUbai-"
   },
   "outputs": [
    {
     "data": {
      "image/png": "[encoded data removed]",
      "text/plain": [
       "plot without title"
      ]
     },
     "metadata": {},
     "output_type": "display_data"
    }
   ],
   "source": [
    "grid.arrange(plot1,plot2,plot3)"
   ]
  },
  {
   "cell_type": "code",
   "execution_count": 27,
   "metadata": {
    "id": "Tn-1YExlUmSF"
   },
   "outputs": [],
   "source": [
    "# Plotando variável PhoneService\n",
    "plot4<-df_telecom2 %>%\n",
    "ggplot(aes(PhoneService,fill=PhoneService)) +\n",
    "geom_bar(alpha=.5,show.legend=F) +\n",
    "scale_x_discrete(labels = c(\"Não\",\"Sim\")) +\n",
    "labs(title=\"O Cliente Possui Plano de Telefone?\",y=NULL,x=NULL)+\n",
    "theme(plot.title = element_text(hjust = 0.5))"
   ]
  },
  {
   "cell_type": "code",
   "execution_count": 28,
   "metadata": {
    "id": "x-do2IgVUmVM"
   },
   "outputs": [],
   "source": [
    "# Plotando variável MultipleLines\n",
    "plot5<-df_telecom2 %>%\n",
    "ggplot(aes(MultipleLines,fill=MultipleLines)) +\n",
    "geom_bar(alpha=.5,show.legend=F) +\n",
    "scale_x_discrete(labels = c(\"Não\",\"Sem Serviço Telefônico\",\"Sim\")) +\n",
    "labs(title=\"O Cliente Possui +1 Linhas Telefônicas\",y=NULL,x=NULL)+\n",
    "theme(plot.title = element_text(hjust = 0.5))"
   ]
  },
  {
   "cell_type": "code",
   "execution_count": 29,
   "metadata": {
    "id": "yudvdsYEUmaD"
   },
   "outputs": [],
   "source": [
    "# Plotando variável InternetService\n",
    "plot6<-df_telecom2 %>%\n",
    "ggplot(aes(InternetService,fill=InternetService)) +\n",
    "geom_bar(alpha=.5,show.legend=F) +\n",
    "scale_x_discrete(labels = c(\"DSL\",\"Fibra Ótica\",\"Sem Internet\")) +\n",
    "labs(title=\"Serviço de Internet do Cliente\",y=NULL,x=NULL)+\n",
    "theme(plot.title = element_text(hjust = 0.5))"
   ]
  },
  {
   "cell_type": "code",
   "execution_count": 30,
   "metadata": {
    "id": "ZbbMVW14ranm"
   },
   "outputs": [
    {
     "data": {
      "image/png": "[encoded data removed]",
      "text/plain": [
       "plot without title"
      ]
     },
     "metadata": {},
     "output_type": "display_data"
    }
   ],
   "source": [
    "grid.arrange(plot4,plot5,plot6)"
   ]
  },
  {
   "cell_type": "code",
   "execution_count": 31,
   "metadata": {
    "id": "TUsdemGIUmdn"
   },
   "outputs": [],
   "source": [
    "# Plotando variável OnlineSecurity\n",
    "plot7<-df_telecom2 %>%\n",
    "ggplot(aes(OnlineSecurity,fill=OnlineSecurity)) +\n",
    "geom_bar(alpha=.5,show.legend=F) +\n",
    "scale_x_discrete(labels = c(\"Não\",\"Sem Serviço de Internet\",\"Sim\"))+\n",
    "labs(title=\"O Cliente Possui Serviço de Segurança Online?\",y=NULL,x=NULL)+\n",
    "theme(plot.title = element_text(hjust = 0.5))"
   ]
  },
  {
   "cell_type": "code",
   "execution_count": 32,
   "metadata": {
    "id": "tQAYm4W8eRba"
   },
   "outputs": [],
   "source": [
    "# Plotando variável OnlineBackup\n",
    "plot8<-df_telecom2 %>%\n",
    "ggplot(aes(OnlineBackup,fill=OnlineBackup)) +\n",
    "geom_bar(alpha=.5,show.legend=F) +\n",
    "scale_x_discrete(labels = c(\"Não\",\"Sem Serviço de Internet\",\"Sim\")) +\n",
    "labs(title=\"O Cliente Possui Serviço de Backup Online?\",y=NULL,x=NULL)+\n",
    "theme(plot.title = element_text(hjust = 0.5))"
   ]
  },
  {
   "cell_type": "code",
   "execution_count": 33,
   "metadata": {
    "id": "IT2Chf-XeRpB"
   },
   "outputs": [],
   "source": [
    "# Plotando variável DeviceProtection\n",
    "plot9<-df_telecom2 %>%\n",
    "ggplot(aes(DeviceProtection,fill=DeviceProtection)) +\n",
    "geom_bar(alpha=.5,show.legend=F) +\n",
    "scale_x_discrete(labels = c(\"Não\",\"Sem Serviço de Internet\",\"Sim\"))+\n",
    "labs(title=\"O Cliente Possui Serviço de Seguro de Equipamento?\",y=NULL,x=NULL)+\n",
    "theme(plot.title = element_text(hjust = 0.5))"
   ]
  },
  {
   "cell_type": "code",
   "execution_count": 34,
   "metadata": {
    "id": "yLvAeTM7smle"
   },
   "outputs": [
    {
     "data": {
      "image/png": "[encoded data removed]",
      "text/plain": [
       "plot without title"
      ]
     },
     "metadata": {},
     "output_type": "display_data"
    }
   ],
   "source": [
    "grid.arrange(plot7,plot8,plot9)"
   ]
  },
  {
   "cell_type": "code",
   "execution_count": 35,
   "metadata": {
    "id": "Q1Z1kwTWeR3p"
   },
   "outputs": [],
   "source": [
    "# Plotando variável TechSupport\n",
    "plot10<-df_telecom2 %>%\n",
    "ggplot(aes(TechSupport,fill=TechSupport)) +\n",
    "geom_bar(alpha=.5,show.legend=F) +\n",
    "scale_x_discrete(labels = c(\"Não\",\"Sem Serviço de Internet\",\"Sim\"))+\n",
    "labs(title=\"O Cliente Possui Serviço de Suporte Técnico?\",y=NULL,x=NULL)+\n",
    "theme(plot.title = element_text(hjust = 0.5))"
   ]
  },
  {
   "cell_type": "code",
   "execution_count": 36,
   "metadata": {
    "id": "17WEOf2weR9G"
   },
   "outputs": [],
   "source": [
    "# Plotando variável StreaminTV\n",
    "plot11<-df_telecom2 %>%\n",
    "ggplot(aes(StreamingTV,fill=StreamingTV)) +\n",
    "geom_bar(alpha=.5,show.legend=F) +\n",
    "scale_x_discrete(labels = c(\"Não\",\"Sem Serviço de Internet\",\"Sim\"))+\n",
    "labs(title=\"O Cliente Possui Serviço de Streaming de TV?\",y=NULL,x=NULL)+\n",
    "theme(plot.title = element_text(hjust = 0.5))"
   ]
  },
  {
   "cell_type": "code",
   "execution_count": 37,
   "metadata": {
    "id": "C0fCXljYeSDO"
   },
   "outputs": [],
   "source": [
    "# Plotando variável StreamingMovies\n",
    "plot12<-df_telecom2 %>%\n",
    "ggplot(aes(StreamingMovies,fill=StreamingMovies)) +\n",
    "geom_bar(alpha=.5,show.legend=F) +\n",
    "scale_x_discrete(labels = c(\"Não\",\"Sem Serviço de Internet\",\"Sim\"))+\n",
    "labs(title=\"O Cliente Possui Serviço de Streaming de Cinema?\",y=NULL,x=NULL)+\n",
    "theme(plot.title = element_text(hjust = 0.5))"
   ]
  },
  {
   "cell_type": "code",
   "execution_count": 38,
   "metadata": {
    "id": "MxLT7nQ2tb7R"
   },
   "outputs": [
    {
     "data": {
      "image/png": "[encoded data removed]",
      "text/plain": [
       "plot without title"
      ]
     },
     "metadata": {},
     "output_type": "display_data"
    }
   ],
   "source": [
    "grid.arrange(plot10,plot11,plot12)"
   ]
  },
  {
   "cell_type": "code",
   "execution_count": 39,
   "metadata": {
    "id": "88aevbsVeSH7"
   },
   "outputs": [],
   "source": [
    "# Plotando variável Contract\n",
    "plot13<-df_telecom2 %>%\n",
    "ggplot(aes(Contract,fill=Contract)) +\n",
    "geom_bar(alpha=.5,show.legend=F) +\n",
    "scale_x_discrete(labels = c(\"Mensal\",\"12 Meses\",\"24 Meses\"))+\n",
    "labs(title=\"Tipo de Contrato\",y=NULL,x=NULL)+\n",
    "theme(plot.title = element_text(hjust = 0.5))"
   ]
  },
  {
   "cell_type": "code",
   "execution_count": 40,
   "metadata": {
    "id": "f81eE1wVeSNO"
   },
   "outputs": [],
   "source": [
    "# Plotando variável PaperlessBilling\n",
    "plot14<-df_telecom2 %>%\n",
    "ggplot(aes(PaperlessBilling,fill=PaperlessBilling)) +\n",
    "geom_bar(alpha=.5,show.legend=F) +\n",
    "scale_x_discrete(labels = c(\"Não\",\"Sim\"))+\n",
    "labs(title=\"O Cliente Utiliza Fatura Impressa?\",y=NULL,x=NULL)+\n",
    "theme(plot.title = element_text(hjust = 0.5))"
   ]
  },
  {
   "cell_type": "code",
   "execution_count": 41,
   "metadata": {
    "id": "IZVJjS2keSQz"
   },
   "outputs": [],
   "source": [
    "# Plotando variável PaymentMethod\n",
    "plot15<-df_telecom2 %>%\n",
    "ggplot(aes(PaymentMethod,fill=PaymentMethod)) +\n",
    "geom_bar(alpha=.5,show.legend=F) +\n",
    "scale_x_discrete(labels = c(\"Transferência Bancária\",\"Cartão de Crédito\",\"Cheque Eletrônico\",\"Cheque Enviado\"))+\n",
    "labs(title=\"Método de Pagamento\",y=NULL,x=NULL)+\n",
    "theme(plot.title = element_text(hjust = 0.5))"
   ]
  },
  {
   "cell_type": "code",
   "execution_count": 42,
   "metadata": {
    "id": "55pBDLJ3t4KT"
   },
   "outputs": [
    {
     "data": {
      "image/png": "[encoded data removed]",
      "text/plain": [
       "plot without title"
      ]
     },
     "metadata": {},
     "output_type": "display_data"
    }
   ],
   "source": [
    "grid.arrange(plot13,plot14,plot15)"
   ]
  },
  {
   "cell_type": "code",
   "execution_count": 43,
   "metadata": {
    "id": "NykxRFtZeSUr"
   },
   "outputs": [],
   "source": [
    "# Plotando variável Churn\n",
    "plot16<-df_telecom2 %>%\n",
    "ggplot(aes(Churn,fill=Churn)) +\n",
    "geom_bar(alpha=.5,show.legend=F) +\n",
    "scale_x_discrete(labels = c(\"Não\",\"Sim\"))+\n",
    "labs(title=\"Houve Perda do Cliente?\",y=NULL,x=NULL)+\n",
    "theme(plot.title = element_text(hjust = 0.5))"
   ]
  },
  {
   "cell_type": "code",
   "execution_count": 44,
   "metadata": {
    "id": "YIiXHm5P_EIh"
   },
   "outputs": [],
   "source": [
    "# Plotando variável tenure\n",
    "plot17<-df_telecom2 %>%\n",
    "ggplot(aes(tenure)) +\n",
    "geom_histogram(fill = \"blue\", color = \"yellow\", alpha = .5, bins = 40, boundary = 5) +\n",
    "labs(title=\"Tempo Como Cliente\",x=NULL,y=NULL)+\n",
    "theme(plot.title = element_text(hjust = 0.5))"
   ]
  },
  {
   "cell_type": "code",
   "execution_count": 45,
   "metadata": {
    "id": "_lz73Tga_EVn"
   },
   "outputs": [],
   "source": [
    "# Plotando variável MonthlyCharges\n",
    "plot18<-df_telecom2 %>%\n",
    "ggplot(aes(MonthlyCharges)) +\n",
    "geom_histogram(fill = \"lightblue\", color = \"green\", alpha = .5, bins = 40, boundary = 5) +\n",
    "labs(title=\"Pagamento Mensal Atual\",x=NULL,y=NULL)+\n",
    "theme(plot.title = element_text(hjust = 0.5))"
   ]
  },
  {
   "cell_type": "code",
   "execution_count": 46,
   "metadata": {
    "id": "N5mtStWDAyX3"
   },
   "outputs": [
    {
     "data": {
      "image/png": "[encoded data removed]",
      "text/plain": [
       "plot without title"
      ]
     },
     "metadata": {},
     "output_type": "display_data"
    }
   ],
   "source": [
    "grid.arrange(plot16,plot17,plot18)"
   ]
  },
  {
   "cell_type": "code",
   "execution_count": 47,
   "metadata": {
    "id": "FWjc3vc__Ecv"
   },
   "outputs": [],
   "source": [
    "# Plotando variável tenure\n",
    "plot19<-df_telecom2 %>%\n",
    "ggplot(aes(TotalCharges)) +\n",
    "geom_histogram(fill = \"blue\", color = \"yellow\", alpha = .5, bins = 40, boundary = 5) +\n",
    "labs(title=\"Valor Total Gasto Pelo Cliente\",x=NULL,y=NULL)+\n",
    "theme(plot.title = element_text(hjust = 0.5))"
   ]
  },
  {
   "cell_type": "code",
   "execution_count": 48,
   "metadata": {
    "id": "R7CuP_DKeSYz"
   },
   "outputs": [],
   "source": [
    "# Plotando variável Dependents\n",
    "plot20<-df_telecom2 %>%\n",
    "ggplot(aes(Dependents,fill=as.factor(Dependents))) +\n",
    "geom_bar(alpha=.5,show.legend=F) +\n",
    "scale_x_discrete(labels = c(\"Não\",\"Sim\"))+\n",
    "labs(title=\"Possui Dependentes?\",y=NULL,x=NULL) +\n",
    "theme(plot.title = element_text(hjust = 0.5))"
   ]
  },
  {
   "cell_type": "code",
   "execution_count": 49,
   "metadata": {
    "id": "61IfKYqs_Ei6"
   },
   "outputs": [
    {
     "data": {
      "image/png": "[encoded data removed]",
      "text/plain": [
       "plot without title"
      ]
     },
     "metadata": {},
     "output_type": "display_data"
    }
   ],
   "source": [
    "grid.arrange(plot19,plot20)"
   ]
  },
  {
   "cell_type": "markdown",
   "metadata": {},
   "source": [
    "### VARIÁVEIS NUMÉRICAS E VARIÁVEL CHURN"
   ]
  },
  {
   "cell_type": "code",
   "execution_count": 50,
   "metadata": {
    "id": "VNlCQXtX_EnO"
   },
   "outputs": [],
   "source": [
    "# Plotando MonthlyCharges e Churn\n",
    "plot21<-df_telecom2 %>%\n",
    "ggplot(aes(MonthlyCharges,fill=factor(Churn,labels=c(\"Não\",\"Sim\")))) +\n",
    "geom_density(alpha=.5) +\n",
    "labs(title=\"Relação Pagamento Mensal Atual e Churn\",y=NULL,x=NULL,fill=\"Churn\") +\n",
    "theme(plot.title = element_text(hjust = 0.5))"
   ]
  },
  {
   "cell_type": "code",
   "execution_count": 51,
   "metadata": {},
   "outputs": [],
   "source": [
    "# Plotando TotalCharges e Churn\n",
    "plot22<-df_telecom2 %>%\n",
    "ggplot(aes(TotalCharges,fill=factor(Churn,labels=c(\"Não\",\"Sim\")))) +\n",
    "geom_density(alpha=.5) +\n",
    "labs(title=\"Relação Gasto Total e Churn\",y=NULL,x=NULL,fill=\"Churn\") +\n",
    "theme(plot.title = element_text(hjust = 0.5))"
   ]
  },
  {
   "cell_type": "code",
   "execution_count": 52,
   "metadata": {
    "id": "m9icnQfi_ErZ"
   },
   "outputs": [],
   "source": [
    "# Plotando tenure e Churn\n",
    "plot23<-df_telecom2 %>%\n",
    "ggplot(aes(tenure,fill=factor(Churn,labels=c(\"Não\",\"Sim\")))) +\n",
    "geom_density(alpha=.5) +\n",
    "labs(title=\"Relação Meses Como Cliente e Churn\",y=NULL,x=NULL,fill=\"Churn\") +\n",
    "theme(plot.title = element_text(hjust = 0.5))\n"
   ]
  },
  {
   "cell_type": "code",
   "execution_count": 53,
   "metadata": {
    "id": "LvtGypex_ExF"
   },
   "outputs": [
    {
     "data": {
      "image/png": "[encoded data removed]",
      "text/plain": [
       "plot without title"
      ]
     },
     "metadata": {},
     "output_type": "display_data"
    }
   ],
   "source": [
    "grid.arrange(plot21,plot22,plot23)"
   ]
  },
  {
   "cell_type": "code",
   "execution_count": 54,
   "metadata": {
    "id": "NNaoI7r4_E1l"
   },
   "outputs": [
    {
     "data": {
      "text/html": [
       "<table>\n",
       "<thead><tr><th></th><th scope=col>tenure</th><th scope=col>MonthlyCharges</th><th scope=col>TotalCharges</th><th scope=col>Dependents</th></tr></thead>\n",
       "<tbody>\n",
       "\t<tr><th scope=row>tenure</th><td>1.0000000  </td><td> 0.2468618 </td><td>0.82588046 </td><td> 0.16338597</td></tr>\n",
       "\t<tr><th scope=row>MonthlyCharges</th><td>0.2468618  </td><td> 1.0000000 </td><td>0.65106480 </td><td>-0.11234295</td></tr>\n",
       "\t<tr><th scope=row>TotalCharges</th><td>0.8258805  </td><td> 0.6510648 </td><td>1.00000000 </td><td> 0.06465325</td></tr>\n",
       "\t<tr><th scope=row>Dependents</th><td>0.1633860  </td><td>-0.1123430 </td><td>0.06465325 </td><td> 1.00000000</td></tr>\n",
       "</tbody>\n",
       "</table>\n"
      ],
      "text/latex": [
       "\\begin{tabular}{r|llll}\n",
       "  & tenure & MonthlyCharges & TotalCharges & Dependents\\\\\n",
       "\\hline\n",
       "\ttenure & 1.0000000   &  0.2468618  & 0.82588046  &  0.16338597\\\\\n",
       "\tMonthlyCharges & 0.2468618   &  1.0000000  & 0.65106480  & -0.11234295\\\\\n",
       "\tTotalCharges & 0.8258805   &  0.6510648  & 1.00000000  &  0.06465325\\\\\n",
       "\tDependents & 0.1633860   & -0.1123430  & 0.06465325  &  1.00000000\\\\\n",
       "\\end{tabular}\n"
      ],
      "text/markdown": [
       "\n",
       "| <!--/--> | tenure | MonthlyCharges | TotalCharges | Dependents |\n",
       "|---|---|---|---|---|\n",
       "| tenure | 1.0000000   |  0.2468618  | 0.82588046  |  0.16338597 |\n",
       "| MonthlyCharges | 0.2468618   |  1.0000000  | 0.65106480  | -0.11234295 |\n",
       "| TotalCharges | 0.8258805   |  0.6510648  | 1.00000000  |  0.06465325 |\n",
       "| Dependents | 0.1633860   | -0.1123430  | 0.06465325  |  1.00000000 |\n",
       "\n"
      ],
      "text/plain": [
       "               tenure    MonthlyCharges TotalCharges Dependents \n",
       "tenure         1.0000000  0.2468618     0.82588046    0.16338597\n",
       "MonthlyCharges 0.2468618  1.0000000     0.65106480   -0.11234295\n",
       "TotalCharges   0.8258805  0.6510648     1.00000000    0.06465325\n",
       "Dependents     0.1633860 -0.1123430     0.06465325    1.00000000"
      ]
     },
     "metadata": {},
     "output_type": "display_data"
    }
   ],
   "source": [
    "# Correlação entre as variáveis numéricas\n",
    "df_telecom2 %>%\n",
    "select_if(is.numeric) %>%\n",
    "cor()"
   ]
  },
  {
   "cell_type": "markdown",
   "metadata": {
    "id": "6Fs6JKP4Qucr"
   },
   "source": [
    "## 3. CONSTRUINDO MODELOS"
   ]
  },
  {
   "cell_type": "markdown",
   "metadata": {},
   "source": [
    "1. Utilizaremos três algorítmos (KNN, Random Forest e Regressão Logística). O primeiro modelo terá a variável dependente *Churn* e as restantes como variáveis independentes. O segundo modelo será constituído pelas variáveis mais importantes."
   ]
  },
  {
   "cell_type": "code",
   "execution_count": 55,
   "metadata": {
    "id": "2qAX0SREQxaO"
   },
   "outputs": [],
   "source": [
    "# Split do dataset em treino e teste\n",
    "indxTrain <- createDataPartition(y = df_telecom2$Churn, p = 0.75, list = FALSE)\n",
    "dados_treino <- df_telecom2[indxTrain,]\n",
    "dados_teste <- df_telecom2[-indxTrain,]"
   ]
  },
  {
   "cell_type": "code",
   "execution_count": 56,
   "metadata": {
    "colab": {
     "base_uri": "https://localhost:8080/",
     "height": 119
    },
    "id": "RFggeuXqRtai",
    "outputId": "179d134d-c119-4fa6-9a3e-a1231f06ed45"
   },
   "outputs": [
    {
     "data": {
      "text/plain": [
       "\n",
       "      0       1 \n",
       "73.4215 26.5785 "
      ]
     },
     "metadata": {},
     "output_type": "display_data"
    },
    {
     "data": {
      "text/plain": [
       "\n",
       "      0       1 \n",
       "73.4218 26.5782 "
      ]
     },
     "metadata": {},
     "output_type": "display_data"
    }
   ],
   "source": [
    "# Verificando a distribuição dos dados originais e das partições\n",
    "prop.table(table(df_telecom2$Churn)) * 100\n",
    "prop.table(table(dados_treino$Churn)) * 100"
   ]
  },
  {
   "cell_type": "code",
   "execution_count": 57,
   "metadata": {
    "colab": {
     "base_uri": "https://localhost:8080/",
     "height": 384
    },
    "id": "do0Eo7BMSRZo",
    "outputId": "33212eb8-cd8d-4dc1-fcb8-53d29e47db69"
   },
   "outputs": [],
   "source": [
    "# Normalizando colunas númerica nos dados de teste\n",
    "dados_teste_scaled<- dados_teste %>%\n",
    "mutate_if(is.numeric, scale)"
   ]
  },
  {
   "cell_type": "code",
   "execution_count": 58,
   "metadata": {
    "id": "3vOiDKZfSR1N"
   },
   "outputs": [],
   "source": [
    "# Normalizando colunas númerica nos dados de treino\n",
    "dados_treino_scaled<- dados_treino %>%\n",
    "mutate_if(is.numeric, scale)"
   ]
  },
  {
   "cell_type": "code",
   "execution_count": 59,
   "metadata": {
    "colab": {
     "base_uri": "https://localhost:8080/",
     "height": 405
    },
    "id": "8iNIA17TSVUr",
    "outputId": "1c887a70-37c8-46c5-a979-80678f174e9c"
   },
   "outputs": [
    {
     "data": {
      "text/html": [
       "<table>\n",
       "<thead><tr><th></th><th scope=col>SeniorCitizen</th><th scope=col>tenure</th><th scope=col>MonthlyCharges</th><th scope=col>TotalCharges</th><th scope=col>gender</th><th scope=col>Partner</th><th scope=col>Dependents</th><th scope=col>PhoneService</th><th scope=col>MultipleLines</th><th scope=col>InternetService</th><th scope=col>OnlineSecurity</th><th scope=col>OnlineBackup</th><th scope=col>DeviceProtection</th><th scope=col>TechSupport</th><th scope=col>StreamingTV</th><th scope=col>StreamingMovies</th><th scope=col>Contract</th><th scope=col>PaperlessBilling</th><th scope=col>PaymentMethod</th><th scope=col>Churn</th></tr></thead>\n",
       "<tbody>\n",
       "\t<tr><th scope=row>1</th><td>0         </td><td>-1.2791449</td><td>-1.1531972</td><td>-0.9900068</td><td>0         </td><td>1         </td><td>-0.6517859</td><td>0         </td><td>0         </td><td>0         </td><td>0         </td><td>1         </td><td>0         </td><td>0         </td><td>0         </td><td>0         </td><td>0         </td><td>1         </td><td>2         </td><td>0         </td></tr>\n",
       "\t<tr><th scope=row>3</th><td>0         </td><td>-1.2382042</td><td>-0.3539701</td><td>-0.9552847</td><td>1         </td><td>0         </td><td>-0.6517859</td><td>1         </td><td>0         </td><td>0         </td><td>1         </td><td>1         </td><td>0         </td><td>0         </td><td>0         </td><td>0         </td><td>0         </td><td>1         </td><td>3         </td><td>1         </td></tr>\n",
       "\t<tr><th scope=row>4</th><td>0         </td><td> 0.5222490</td><td>-0.7385982</td><td>-0.1869624</td><td>1         </td><td>0         </td><td>-0.6517859</td><td>0         </td><td>0         </td><td>0         </td><td>1         </td><td>0         </td><td>1         </td><td>1         </td><td>0         </td><td>0         </td><td>1         </td><td>0         </td><td>0         </td><td>0         </td></tr>\n",
       "\t<tr><th scope=row>5</th><td>0         </td><td>-1.2382042</td><td> 0.2071538</td><td>-0.9359946</td><td>0         </td><td>0         </td><td>-0.6517859</td><td>1         </td><td>0         </td><td>1         </td><td>0         </td><td>0         </td><td>0         </td><td>0         </td><td>0         </td><td>0         </td><td>0         </td><td>1         </td><td>2         </td><td>1         </td></tr>\n",
       "\t<tr><th scope=row>7</th><td>0         </td><td>-0.4193887</td><td> 0.8198946</td><td>-0.1387815</td><td>1         </td><td>0         </td><td> 1.5339552</td><td>1         </td><td>1         </td><td>1         </td><td>0         </td><td>1         </td><td>0         </td><td>0         </td><td>1         </td><td>0         </td><td>0         </td><td>1         </td><td>1         </td><td>0         </td></tr>\n",
       "\t<tr><th scope=row>11</th><td>0         </td><td>-0.7878557</td><td>-0.4838445</td><td>-0.7427389</td><td>1         </td><td>1         </td><td> 1.5339552</td><td>1         </td><td>0         </td><td>0         </td><td>1         </td><td>0         </td><td>0         </td><td>0         </td><td>0         </td><td>0         </td><td>0         </td><td>1         </td><td>3         </td><td>0         </td></tr>\n",
       "</tbody>\n",
       "</table>\n"
      ],
      "text/latex": [
       "\\begin{tabular}{r|llllllllllllllllllll}\n",
       "  & SeniorCitizen & tenure & MonthlyCharges & TotalCharges & gender & Partner & Dependents & PhoneService & MultipleLines & InternetService & OnlineSecurity & OnlineBackup & DeviceProtection & TechSupport & StreamingTV & StreamingMovies & Contract & PaperlessBilling & PaymentMethod & Churn\\\\\n",
       "\\hline\n",
       "\t1 & 0          & -1.2791449 & -1.1531972 & -0.9900068 & 0          & 1          & -0.6517859 & 0          & 0          & 0          & 0          & 1          & 0          & 0          & 0          & 0          & 0          & 1          & 2          & 0         \\\\\n",
       "\t3 & 0          & -1.2382042 & -0.3539701 & -0.9552847 & 1          & 0          & -0.6517859 & 1          & 0          & 0          & 1          & 1          & 0          & 0          & 0          & 0          & 0          & 1          & 3          & 1         \\\\\n",
       "\t4 & 0          &  0.5222490 & -0.7385982 & -0.1869624 & 1          & 0          & -0.6517859 & 0          & 0          & 0          & 1          & 0          & 1          & 1          & 0          & 0          & 1          & 0          & 0          & 0         \\\\\n",
       "\t5 & 0          & -1.2382042 &  0.2071538 & -0.9359946 & 0          & 0          & -0.6517859 & 1          & 0          & 1          & 0          & 0          & 0          & 0          & 0          & 0          & 0          & 1          & 2          & 1         \\\\\n",
       "\t7 & 0          & -0.4193887 &  0.8198946 & -0.1387815 & 1          & 0          &  1.5339552 & 1          & 1          & 1          & 0          & 1          & 0          & 0          & 1          & 0          & 0          & 1          & 1          & 0         \\\\\n",
       "\t11 & 0          & -0.7878557 & -0.4838445 & -0.7427389 & 1          & 1          &  1.5339552 & 1          & 0          & 0          & 1          & 0          & 0          & 0          & 0          & 0          & 0          & 1          & 3          & 0         \\\\\n",
       "\\end{tabular}\n"
      ],
      "text/markdown": [
       "\n",
       "| <!--/--> | SeniorCitizen | tenure | MonthlyCharges | TotalCharges | gender | Partner | Dependents | PhoneService | MultipleLines | InternetService | OnlineSecurity | OnlineBackup | DeviceProtection | TechSupport | StreamingTV | StreamingMovies | Contract | PaperlessBilling | PaymentMethod | Churn |\n",
       "|---|---|---|---|---|---|---|---|---|---|---|---|---|---|---|---|---|---|---|---|---|\n",
       "| 1 | 0          | -1.2791449 | -1.1531972 | -0.9900068 | 0          | 1          | -0.6517859 | 0          | 0          | 0          | 0          | 1          | 0          | 0          | 0          | 0          | 0          | 1          | 2          | 0          |\n",
       "| 3 | 0          | -1.2382042 | -0.3539701 | -0.9552847 | 1          | 0          | -0.6517859 | 1          | 0          | 0          | 1          | 1          | 0          | 0          | 0          | 0          | 0          | 1          | 3          | 1          |\n",
       "| 4 | 0          |  0.5222490 | -0.7385982 | -0.1869624 | 1          | 0          | -0.6517859 | 0          | 0          | 0          | 1          | 0          | 1          | 1          | 0          | 0          | 1          | 0          | 0          | 0          |\n",
       "| 5 | 0          | -1.2382042 |  0.2071538 | -0.9359946 | 0          | 0          | -0.6517859 | 1          | 0          | 1          | 0          | 0          | 0          | 0          | 0          | 0          | 0          | 1          | 2          | 1          |\n",
       "| 7 | 0          | -0.4193887 |  0.8198946 | -0.1387815 | 1          | 0          |  1.5339552 | 1          | 1          | 1          | 0          | 1          | 0          | 0          | 1          | 0          | 0          | 1          | 1          | 0          |\n",
       "| 11 | 0          | -0.7878557 | -0.4838445 | -0.7427389 | 1          | 1          |  1.5339552 | 1          | 0          | 0          | 1          | 0          | 0          | 0          | 0          | 0          | 0          | 1          | 3          | 0          |\n",
       "\n"
      ],
      "text/plain": [
       "   SeniorCitizen tenure     MonthlyCharges TotalCharges gender Partner\n",
       "1  0             -1.2791449 -1.1531972     -0.9900068   0      1      \n",
       "3  0             -1.2382042 -0.3539701     -0.9552847   1      0      \n",
       "4  0              0.5222490 -0.7385982     -0.1869624   1      0      \n",
       "5  0             -1.2382042  0.2071538     -0.9359946   0      0      \n",
       "7  0             -0.4193887  0.8198946     -0.1387815   1      0      \n",
       "11 0             -0.7878557 -0.4838445     -0.7427389   1      1      \n",
       "   Dependents PhoneService MultipleLines InternetService OnlineSecurity\n",
       "1  -0.6517859 0            0             0               0             \n",
       "3  -0.6517859 1            0             0               1             \n",
       "4  -0.6517859 0            0             0               1             \n",
       "5  -0.6517859 1            0             1               0             \n",
       "7   1.5339552 1            1             1               0             \n",
       "11  1.5339552 1            0             0               1             \n",
       "   OnlineBackup DeviceProtection TechSupport StreamingTV StreamingMovies\n",
       "1  1            0                0           0           0              \n",
       "3  1            0                0           0           0              \n",
       "4  0            1                1           0           0              \n",
       "5  0            0                0           0           0              \n",
       "7  1            0                0           1           0              \n",
       "11 0            0                0           0           0              \n",
       "   Contract PaperlessBilling PaymentMethod Churn\n",
       "1  0        1                2             0    \n",
       "3  0        1                3             1    \n",
       "4  1        0                0             0    \n",
       "5  0        1                2             1    \n",
       "7  0        1                1             0    \n",
       "11 0        1                3             0    "
      ]
     },
     "metadata": {},
     "output_type": "display_data"
    }
   ],
   "source": [
    "# Visualizando as seis primeiras linhas dos dados normalizados\n",
    "head(dados_treino_scaled)"
   ]
  },
  {
   "cell_type": "markdown",
   "metadata": {
    "id": "yz3OY2b8QUpR"
   },
   "source": [
    "### 3.1 KNN"
   ]
  },
  {
   "cell_type": "markdown",
   "metadata": {},
   "source": [
    "### Modelo 1"
   ]
  },
  {
   "cell_type": "code",
   "execution_count": 60,
   "metadata": {
    "id": "5U5HRP2yQY_U"
   },
   "outputs": [],
   "source": [
    "# Arquivo de controle\n",
    "ctrl <- trainControl(method = \"repeatedcv\", repeats = 3)"
   ]
  },
  {
   "cell_type": "code",
   "execution_count": 61,
   "metadata": {
    "id": "99AMwdp6Qc54"
   },
   "outputs": [],
   "source": [
    "# Criação do modelo1\n",
    "knn_v1 <- train(Churn ~ ., \n",
    "                data = dados_treino_scaled, \n",
    "                method = \"knn\", \n",
    "                trControl = ctrl, \n",
    "                tuneLength = 20)"
   ]
  },
  {
   "cell_type": "code",
   "execution_count": 62,
   "metadata": {
    "id": "L6sSO0mPTLHb"
   },
   "outputs": [
    {
     "data": {
      "image/png": "[encoded data removed]",
      "text/plain": [
       "plot without title"
      ]
     },
     "metadata": {},
     "output_type": "display_data"
    }
   ],
   "source": [
    "# Número de Vizinhos x Acurácia Modelo Knn 1\n",
    "plot(knn_v1)"
   ]
  },
  {
   "cell_type": "code",
   "execution_count": 63,
   "metadata": {
    "id": "PtMX5wCOQc_W"
   },
   "outputs": [],
   "source": [
    "# Fazendo previsões\n",
    "knnPredict1 <- predict(knn_v1, newdata = dados_teste_scaled)"
   ]
  },
  {
   "cell_type": "code",
   "execution_count": 64,
   "metadata": {
    "id": "CYqb95rPQdF9"
   },
   "outputs": [
    {
     "data": {
      "text/plain": [
       "Confusion Matrix and Statistics\n",
       "\n",
       "          Reference\n",
       "Prediction    0    1\n",
       "         0 1142  185\n",
       "         1  148  282\n",
       "                                          \n",
       "               Accuracy : 0.8105          \n",
       "                 95% CI : (0.7913, 0.8286)\n",
       "    No Information Rate : 0.7342          \n",
       "    P-Value [Acc > NIR] : 4.175e-14       \n",
       "                                          \n",
       "                  Kappa : 0.5018          \n",
       "                                          \n",
       " Mcnemar's Test P-Value : 0.04852         \n",
       "                                          \n",
       "            Sensitivity : 0.8853          \n",
       "            Specificity : 0.6039          \n",
       "         Pos Pred Value : 0.8606          \n",
       "         Neg Pred Value : 0.6558          \n",
       "             Prevalence : 0.7342          \n",
       "         Detection Rate : 0.6500          \n",
       "   Detection Prevalence : 0.7553          \n",
       "      Balanced Accuracy : 0.7446          \n",
       "                                          \n",
       "       'Positive' Class : 0               \n",
       "                                          "
      ]
     },
     "metadata": {},
     "output_type": "display_data"
    }
   ],
   "source": [
    "# Criando a Confusion Matrix\n",
    "confusionMatrix(knnPredict1, dados_teste$Churn)"
   ]
  },
  {
   "cell_type": "markdown",
   "metadata": {},
   "source": [
    "### Modelo 2"
   ]
  },
  {
   "cell_type": "code",
   "execution_count": 65,
   "metadata": {},
   "outputs": [
    {
     "data": {
      "text/plain": [
       "ROC curve variable importance\n",
       "\n",
       "                 Importance\n",
       "tenure             100.0000\n",
       "Contract            98.7701\n",
       "TotalCharges        62.8677\n",
       "MonthlyCharges      48.4451\n",
       "PaperlessBilling    44.2543\n",
       "Partner             36.3364\n",
       "TechSupport         35.3752\n",
       "OnlineSecurity      35.2291\n",
       "Dependents          34.9335\n",
       "PaymentMethod       25.2521\n",
       "SeniorCitizen       23.8266\n",
       "OnlineBackup        17.2035\n",
       "DeviceProtection    15.7874\n",
       "StreamingTV         15.2801\n",
       "StreamingMovies     14.0027\n",
       "InternetService      8.6208\n",
       "MultipleLines        6.8180\n",
       "gender               0.2823\n",
       "PhoneService         0.0000"
      ]
     },
     "metadata": {},
     "output_type": "display_data"
    }
   ],
   "source": [
    "# Variáveis mais importantes\n",
    "importanceKnn<-varImp(knn_v1)\n",
    "varImp(knn_v1)"
   ]
  },
  {
   "cell_type": "code",
   "execution_count": 66,
   "metadata": {},
   "outputs": [
    {
     "data": {
      "image/png": "[encoded data removed]",
      "text/plain": [
       "plot without title"
      ]
     },
     "metadata": {},
     "output_type": "display_data"
    }
   ],
   "source": [
    "# Plotando variáveis mais importantes\n",
    "importanceKnn %>%\n",
    "ggplot(aes(importante)) +\n",
    "geom_col(alpha=.5,fill=\"lightblue\") +\n",
    "labs(y=NULL,x=NULL,title=\"Variáveis Mais Importantes\") +\n",
    "theme(plot.title = element_text(hjust = 0.5))"
   ]
  },
  {
   "cell_type": "code",
   "execution_count": 67,
   "metadata": {},
   "outputs": [],
   "source": [
    "# Criação do modelo2\n",
    "knn_v2 <- train(Churn ~ tenure+Contract+TechSupport+OnlineSecurity+TotalCharges\n",
    "                +OnlineBackup+DeviceProtection+MonthlyCharges+PaperlessBilling, \n",
    "                data = dados_treino_scaled, \n",
    "                method = \"knn\", \n",
    "                trControl = ctrl, \n",
    "                tuneLength = 20)"
   ]
  },
  {
   "cell_type": "code",
   "execution_count": 68,
   "metadata": {},
   "outputs": [
    {
     "data": {
      "image/png": "[encoded data removed]",
      "text/plain": [
       "plot without title"
      ]
     },
     "metadata": {},
     "output_type": "display_data"
    }
   ],
   "source": [
    "# Plotando modelo2\n",
    "plot(knn_v2)"
   ]
  },
  {
   "cell_type": "code",
   "execution_count": 69,
   "metadata": {},
   "outputs": [],
   "source": [
    "# Fazendo previsões\n",
    "knnPredict2 <- predict(knn_v2, newdata = dados_teste_scaled)"
   ]
  },
  {
   "cell_type": "code",
   "execution_count": 70,
   "metadata": {},
   "outputs": [
    {
     "data": {
      "text/plain": [
       "Confusion Matrix and Statistics\n",
       "\n",
       "          Reference\n",
       "Prediction    0    1\n",
       "         0 1162  235\n",
       "         1  128  232\n",
       "                                          \n",
       "               Accuracy : 0.7934          \n",
       "                 95% CI : (0.7737, 0.8121)\n",
       "    No Information Rate : 0.7342          \n",
       "    P-Value [Acc > NIR] : 4.882e-09       \n",
       "                                          \n",
       "                  Kappa : 0.4289          \n",
       "                                          \n",
       " Mcnemar's Test P-Value : 2.643e-08       \n",
       "                                          \n",
       "            Sensitivity : 0.9008          \n",
       "            Specificity : 0.4968          \n",
       "         Pos Pred Value : 0.8318          \n",
       "         Neg Pred Value : 0.6444          \n",
       "             Prevalence : 0.7342          \n",
       "         Detection Rate : 0.6614          \n",
       "   Detection Prevalence : 0.7951          \n",
       "      Balanced Accuracy : 0.6988          \n",
       "                                          \n",
       "       'Positive' Class : 0               \n",
       "                                          "
      ]
     },
     "metadata": {},
     "output_type": "display_data"
    }
   ],
   "source": [
    "# Criando a Confusion Matrix\n",
    "confusionMatrix(knnPredict2, dados_teste$Churn)"
   ]
  },
  {
   "cell_type": "markdown",
   "metadata": {},
   "source": [
    "### 3.2 RANDOM FOREST"
   ]
  },
  {
   "cell_type": "markdown",
   "metadata": {},
   "source": [
    "### Modelo 1"
   ]
  },
  {
   "cell_type": "code",
   "execution_count": 71,
   "metadata": {},
   "outputs": [],
   "source": [
    "# Primeira versão do modelo\n",
    "Random_v1<- randomForest(Churn ~., dados_treino_scaled)"
   ]
  },
  {
   "cell_type": "code",
   "execution_count": 72,
   "metadata": {},
   "outputs": [
    {
     "data": {
      "text/plain": [
       "\n",
       "Call:\n",
       " randomForest(formula = Churn ~ ., data = dados_treino_scaled) \n",
       "               Type of random forest: classification\n",
       "                     Number of trees: 500\n",
       "No. of variables tried at each split: 4\n",
       "\n",
       "        OOB estimate of  error rate: 21.18%\n",
       "Confusion matrix:\n",
       "     0   1 class.error\n",
       "0 3483 390   0.1006971\n",
       "1  727 675   0.5185449"
      ]
     },
     "metadata": {},
     "output_type": "display_data"
    }
   ],
   "source": [
    "# Ver modelo 1\n",
    "Random_v1"
   ]
  },
  {
   "cell_type": "code",
   "execution_count": 73,
   "metadata": {},
   "outputs": [
    {
     "data": {
      "image/png": "[encoded data removed]",
      "text/plain": [
       "Plot with title \"Random_v1\""
      ]
     },
     "metadata": {},
     "output_type": "display_data"
    }
   ],
   "source": [
    "# Plotando o modelo\n",
    "plot(Random_v1)"
   ]
  },
  {
   "cell_type": "code",
   "execution_count": 74,
   "metadata": {},
   "outputs": [],
   "source": [
    "# Fazendo previsões\n",
    "RandomPredict1<- predict(Random_v1,dados_teste_scaled)"
   ]
  },
  {
   "cell_type": "code",
   "execution_count": 75,
   "metadata": {},
   "outputs": [
    {
     "data": {
      "text/plain": [
       "Confusion Matrix and Statistics\n",
       "\n",
       "          Reference\n",
       "Prediction    0    1\n",
       "         0 1176  222\n",
       "         1  114  245\n",
       "                                          \n",
       "               Accuracy : 0.8088          \n",
       "                 95% CI : (0.7896, 0.8269)\n",
       "    No Information Rate : 0.7342          \n",
       "    P-Value [Acc > NIR] : 1.548e-13       \n",
       "                                          \n",
       "                  Kappa : 0.471           \n",
       "                                          \n",
       " Mcnemar's Test P-Value : 5.304e-09       \n",
       "                                          \n",
       "            Sensitivity : 0.9116          \n",
       "            Specificity : 0.5246          \n",
       "         Pos Pred Value : 0.8412          \n",
       "         Neg Pred Value : 0.6825          \n",
       "             Prevalence : 0.7342          \n",
       "         Detection Rate : 0.6693          \n",
       "   Detection Prevalence : 0.7957          \n",
       "      Balanced Accuracy : 0.7181          \n",
       "                                          \n",
       "       'Positive' Class : 0               \n",
       "                                          "
      ]
     },
     "metadata": {},
     "output_type": "display_data"
    }
   ],
   "source": [
    "# Criando a Confusion Matrix\n",
    "confusionMatrix(RandomPredict1, dados_teste$Churn)"
   ]
  },
  {
   "cell_type": "markdown",
   "metadata": {},
   "source": [
    "### Modelo 2"
   ]
  },
  {
   "cell_type": "code",
   "execution_count": 76,
   "metadata": {},
   "outputs": [
    {
     "data": {
      "text/html": [
       "<table>\n",
       "<thead><tr><th></th><th scope=col>Overall</th></tr></thead>\n",
       "<tbody>\n",
       "\t<tr><th scope=row>SeniorCitizen</th><td> 37.71179</td></tr>\n",
       "\t<tr><th scope=row>tenure</th><td>315.19897</td></tr>\n",
       "\t<tr><th scope=row>MonthlyCharges</th><td>321.31080</td></tr>\n",
       "\t<tr><th scope=row>TotalCharges</th><td>330.66289</td></tr>\n",
       "\t<tr><th scope=row>gender</th><td> 44.79818</td></tr>\n",
       "\t<tr><th scope=row>Partner</th><td> 40.62033</td></tr>\n",
       "\t<tr><th scope=row>Dependents</th><td> 35.69224</td></tr>\n",
       "\t<tr><th scope=row>PhoneService</th><td> 15.35335</td></tr>\n",
       "\t<tr><th scope=row>MultipleLines</th><td> 35.28550</td></tr>\n",
       "\t<tr><th scope=row>InternetService</th><td> 96.17537</td></tr>\n",
       "\t<tr><th scope=row>OnlineSecurity</th><td> 42.42539</td></tr>\n",
       "\t<tr><th scope=row>OnlineBackup</th><td> 39.10003</td></tr>\n",
       "\t<tr><th scope=row>DeviceProtection</th><td> 32.47965</td></tr>\n",
       "\t<tr><th scope=row>TechSupport</th><td> 42.07056</td></tr>\n",
       "\t<tr><th scope=row>StreamingTV</th><td> 31.46046</td></tr>\n",
       "\t<tr><th scope=row>StreamingMovies</th><td> 31.42639</td></tr>\n",
       "\t<tr><th scope=row>Contract</th><td>171.21597</td></tr>\n",
       "\t<tr><th scope=row>PaperlessBilling</th><td> 47.71983</td></tr>\n",
       "\t<tr><th scope=row>PaymentMethod</th><td>127.28974</td></tr>\n",
       "</tbody>\n",
       "</table>\n"
      ],
      "text/latex": [
       "\\begin{tabular}{r|l}\n",
       "  & Overall\\\\\n",
       "\\hline\n",
       "\tSeniorCitizen &  37.71179\\\\\n",
       "\ttenure & 315.19897\\\\\n",
       "\tMonthlyCharges & 321.31080\\\\\n",
       "\tTotalCharges & 330.66289\\\\\n",
       "\tgender &  44.79818\\\\\n",
       "\tPartner &  40.62033\\\\\n",
       "\tDependents &  35.69224\\\\\n",
       "\tPhoneService &  15.35335\\\\\n",
       "\tMultipleLines &  35.28550\\\\\n",
       "\tInternetService &  96.17537\\\\\n",
       "\tOnlineSecurity &  42.42539\\\\\n",
       "\tOnlineBackup &  39.10003\\\\\n",
       "\tDeviceProtection &  32.47965\\\\\n",
       "\tTechSupport &  42.07056\\\\\n",
       "\tStreamingTV &  31.46046\\\\\n",
       "\tStreamingMovies &  31.42639\\\\\n",
       "\tContract & 171.21597\\\\\n",
       "\tPaperlessBilling &  47.71983\\\\\n",
       "\tPaymentMethod & 127.28974\\\\\n",
       "\\end{tabular}\n"
      ],
      "text/markdown": [
       "\n",
       "| <!--/--> | Overall |\n",
       "|---|---|\n",
       "| SeniorCitizen |  37.71179 |\n",
       "| tenure | 315.19897 |\n",
       "| MonthlyCharges | 321.31080 |\n",
       "| TotalCharges | 330.66289 |\n",
       "| gender |  44.79818 |\n",
       "| Partner |  40.62033 |\n",
       "| Dependents |  35.69224 |\n",
       "| PhoneService |  15.35335 |\n",
       "| MultipleLines |  35.28550 |\n",
       "| InternetService |  96.17537 |\n",
       "| OnlineSecurity |  42.42539 |\n",
       "| OnlineBackup |  39.10003 |\n",
       "| DeviceProtection |  32.47965 |\n",
       "| TechSupport |  42.07056 |\n",
       "| StreamingTV |  31.46046 |\n",
       "| StreamingMovies |  31.42639 |\n",
       "| Contract | 171.21597 |\n",
       "| PaperlessBilling |  47.71983 |\n",
       "| PaymentMethod | 127.28974 |\n",
       "\n"
      ],
      "text/plain": [
       "                 Overall  \n",
       "SeniorCitizen     37.71179\n",
       "tenure           315.19897\n",
       "MonthlyCharges   321.31080\n",
       "TotalCharges     330.66289\n",
       "gender            44.79818\n",
       "Partner           40.62033\n",
       "Dependents        35.69224\n",
       "PhoneService      15.35335\n",
       "MultipleLines     35.28550\n",
       "InternetService   96.17537\n",
       "OnlineSecurity    42.42539\n",
       "OnlineBackup      39.10003\n",
       "DeviceProtection  32.47965\n",
       "TechSupport       42.07056\n",
       "StreamingTV       31.46046\n",
       "StreamingMovies   31.42639\n",
       "Contract         171.21597\n",
       "PaperlessBilling  47.71983\n",
       "PaymentMethod    127.28974"
      ]
     },
     "metadata": {},
     "output_type": "display_data"
    }
   ],
   "source": [
    "# Variáveis mais importantes\n",
    "varImp(Random_v1)"
   ]
  },
  {
   "cell_type": "code",
   "execution_count": 77,
   "metadata": {},
   "outputs": [],
   "source": [
    "# Criando modelo 2\n",
    "Random_v2<- randomForest(Churn ~TotalCharges+MonthlyCharges+tenure+PaymentMethod\n",
    "                         +Contract+InternetService, dados_treino_scaled)"
   ]
  },
  {
   "cell_type": "code",
   "execution_count": 78,
   "metadata": {},
   "outputs": [
    {
     "data": {
      "text/plain": [
       "\n",
       "Call:\n",
       " randomForest(formula = Churn ~ TotalCharges + MonthlyCharges +      tenure + PaymentMethod + Contract + InternetService, data = dados_treino_scaled) \n",
       "               Type of random forest: classification\n",
       "                     Number of trees: 500\n",
       "No. of variables tried at each split: 2\n",
       "\n",
       "        OOB estimate of  error rate: 21.74%\n",
       "Confusion matrix:\n",
       "     0   1 class.error\n",
       "0 3449 424   0.1094759\n",
       "1  723 679   0.5156919"
      ]
     },
     "metadata": {},
     "output_type": "display_data"
    }
   ],
   "source": [
    "# Ver modelo 2\n",
    "Random_v2"
   ]
  },
  {
   "cell_type": "code",
   "execution_count": 79,
   "metadata": {},
   "outputs": [
    {
     "data": {
      "image/png": "[encoded data removed]",
      "text/plain": [
       "Plot with title \"Random_v2\""
      ]
     },
     "metadata": {},
     "output_type": "display_data"
    }
   ],
   "source": [
    "# Plotando modelo 2\n",
    "plot(Random_v2)"
   ]
  },
  {
   "cell_type": "code",
   "execution_count": 80,
   "metadata": {},
   "outputs": [],
   "source": [
    "# Fazendo previsões\n",
    "RandomPredict2<- predict(Random_v2,dados_teste_scaled)"
   ]
  },
  {
   "cell_type": "code",
   "execution_count": 81,
   "metadata": {},
   "outputs": [
    {
     "data": {
      "text/plain": [
       "Confusion Matrix and Statistics\n",
       "\n",
       "          Reference\n",
       "Prediction    0    1\n",
       "         0 1154  206\n",
       "         1  136  261\n",
       "                                         \n",
       "               Accuracy : 0.8054         \n",
       "                 95% CI : (0.786, 0.8236)\n",
       "    No Information Rate : 0.7342         \n",
       "    P-Value [Acc > NIR] : 1.932e-12      \n",
       "                                         \n",
       "                  Kappa : 0.4762         \n",
       "                                         \n",
       " Mcnemar's Test P-Value : 0.0001907      \n",
       "                                         \n",
       "            Sensitivity : 0.8946         \n",
       "            Specificity : 0.5589         \n",
       "         Pos Pred Value : 0.8485         \n",
       "         Neg Pred Value : 0.6574         \n",
       "             Prevalence : 0.7342         \n",
       "         Detection Rate : 0.6568         \n",
       "   Detection Prevalence : 0.7740         \n",
       "      Balanced Accuracy : 0.7267         \n",
       "                                         \n",
       "       'Positive' Class : 0              \n",
       "                                         "
      ]
     },
     "metadata": {},
     "output_type": "display_data"
    }
   ],
   "source": [
    "# Criando a Confusion Matrix\n",
    "confusionMatrix(RandomPredict2, dados_teste$Churn)"
   ]
  },
  {
   "cell_type": "markdown",
   "metadata": {
    "id": "kSK2yFFaT0SP"
   },
   "source": [
    "### REGRESSÃO LOGÍSTICA"
   ]
  },
  {
   "cell_type": "markdown",
   "metadata": {},
   "source": [
    "### Modelo 1"
   ]
  },
  {
   "cell_type": "code",
   "execution_count": 82,
   "metadata": {
    "id": "wMx5NMyjQdUJ"
   },
   "outputs": [],
   "source": [
    "# Construindo o modelo de regressão logística\n",
    "GLM_v1 <- glm(Churn ~., dados_treino_scaled, family = \"binomial\")"
   ]
  },
  {
   "cell_type": "code",
   "execution_count": 83,
   "metadata": {
    "colab": {
     "base_uri": "https://localhost:8080/",
     "height": 901
    },
    "id": "cWJe4khjUak_",
    "outputId": "19a8966d-478e-48a6-9367-203d69d36686"
   },
   "outputs": [
    {
     "data": {
      "text/plain": [
       "\n",
       "Call:\n",
       "glm(formula = Churn ~ ., family = \"binomial\", data = dados_treino_scaled)\n",
       "\n",
       "Deviance Residuals: \n",
       "    Min       1Q   Median       3Q      Max  \n",
       "-1.9110  -0.6894  -0.2893   0.7399   3.4455  \n",
       "\n",
       "Coefficients:\n",
       "                  Estimate Std. Error z value Pr(>|z|)    \n",
       "(Intercept)       -2.58437    1.47260  -1.755  0.07926 .  \n",
       "SeniorCitizen1     0.16699    0.09853   1.695  0.09011 .  \n",
       "tenure            -1.61088    0.17663  -9.120  < 2e-16 ***\n",
       "MonthlyCharges    -1.25591    1.11021  -1.131  0.25796    \n",
       "TotalCharges       0.88230    0.18389   4.798 1.60e-06 ***\n",
       "gender1            0.03279    0.07467   0.439  0.66061    \n",
       "Partner1          -0.06983    0.08956  -0.780  0.43554    \n",
       "Dependents        -0.06235    0.04735  -1.317  0.18789    \n",
       "PhoneService1      0.06158    0.75441   0.082  0.93494    \n",
       "MultipleLines1     0.44867    0.20647   2.173  0.02977 *  \n",
       "InternetService1   1.75068    0.92900   1.884  0.05950 .  \n",
       "InternetService2  -1.77321    0.93897  -1.888  0.05896 .  \n",
       "OnlineSecurity1   -0.18336    0.20764  -0.883  0.37719    \n",
       "OnlineBackup1      0.07067    0.20354   0.347  0.72844    \n",
       "DeviceProtection1  0.11990    0.20436   0.587  0.55740    \n",
       "TechSupport1      -0.20847    0.21087  -0.989  0.32286    \n",
       "StreamingTV1       0.63433    0.38024   1.668  0.09527 .  \n",
       "StreamingMovies1   0.56166    0.38030   1.477  0.13970    \n",
       "Contract1         -0.64461    0.12424  -5.188 2.12e-07 ***\n",
       "Contract2         -1.26797    0.19845  -6.389 1.67e-10 ***\n",
       "PaperlessBilling1  0.34430    0.08522   4.040 5.34e-05 ***\n",
       "PaymentMethod1    -0.10586    0.13014  -0.813  0.41599    \n",
       "PaymentMethod2     0.28834    0.10828   2.663  0.00775 ** \n",
       "PaymentMethod3    -0.11049    0.13240  -0.835  0.40396    \n",
       "---\n",
       "Signif. codes:  0 '***' 0.001 '**' 0.01 '*' 0.05 '.' 0.1 ' ' 1\n",
       "\n",
       "(Dispersion parameter for binomial family taken to be 1)\n",
       "\n",
       "    Null deviance: 6108.6  on 5274  degrees of freedom\n",
       "Residual deviance: 4388.0  on 5251  degrees of freedom\n",
       "AIC: 4436\n",
       "\n",
       "Number of Fisher Scoring iterations: 6\n"
      ]
     },
     "metadata": {},
     "output_type": "display_data"
    }
   ],
   "source": [
    "# Visualizando os detalhes do modelo\n",
    "summary(GLM_v1)"
   ]
  },
  {
   "cell_type": "code",
   "execution_count": 84,
   "metadata": {
    "colab": {
     "base_uri": "https://localhost:8080/"
    },
    "id": "Krz5E30iUa1i",
    "outputId": "2ddfae70-235e-458b-c7f9-e2b56a033e03"
   },
   "outputs": [],
   "source": [
    "# Fazendo previsões\n",
    "GlmPredict1 <- predict(GLM_v1, dados_teste_scaled, type = \"response\")\n",
    "GlmPredict1 <- round(GlmPredict1)"
   ]
  },
  {
   "cell_type": "code",
   "execution_count": 85,
   "metadata": {
    "id": "NEPeToSQUhWE"
   },
   "outputs": [
    {
     "data": {
      "text/plain": [
       "Confusion Matrix and Statistics\n",
       "\n",
       "           \n",
       "GlmPredict1    0    1\n",
       "          0 1139  193\n",
       "          1  151  274\n",
       "                                          \n",
       "               Accuracy : 0.8042          \n",
       "                 95% CI : (0.7849, 0.8225)\n",
       "    No Information Rate : 0.7342          \n",
       "    P-Value [Acc > NIR] : 4.355e-12       \n",
       "                                          \n",
       "                  Kappa : 0.4835          \n",
       "                                          \n",
       " Mcnemar's Test P-Value : 0.02707         \n",
       "                                          \n",
       "            Sensitivity : 0.8829          \n",
       "            Specificity : 0.5867          \n",
       "         Pos Pred Value : 0.8551          \n",
       "         Neg Pred Value : 0.6447          \n",
       "             Prevalence : 0.7342          \n",
       "         Detection Rate : 0.6483          \n",
       "   Detection Prevalence : 0.7581          \n",
       "      Balanced Accuracy : 0.7348          \n",
       "                                          \n",
       "       'Positive' Class : 0               \n",
       "                                          "
      ]
     },
     "metadata": {},
     "output_type": "display_data"
    }
   ],
   "source": [
    "# Confusion Matrix\n",
    "confusionMatrix(table(GlmPredict1, dados_teste_scaled$Churn))"
   ]
  },
  {
   "cell_type": "markdown",
   "metadata": {},
   "source": [
    "### Modelo 2"
   ]
  },
  {
   "cell_type": "code",
   "execution_count": 86,
   "metadata": {
    "id": "SNcnryFi9-5z"
   },
   "outputs": [
    {
     "data": {
      "text/html": [
       "<table>\n",
       "<thead><tr><th></th><th scope=col>Overall</th></tr></thead>\n",
       "<tbody>\n",
       "\t<tr><th scope=row>SeniorCitizen1</th><td>1.69481930</td></tr>\n",
       "\t<tr><th scope=row>tenure</th><td>9.12013115</td></tr>\n",
       "\t<tr><th scope=row>MonthlyCharges</th><td>1.13123053</td></tr>\n",
       "\t<tr><th scope=row>TotalCharges</th><td>4.79800803</td></tr>\n",
       "\t<tr><th scope=row>gender1</th><td>0.43907748</td></tr>\n",
       "\t<tr><th scope=row>Partner1</th><td>0.77974002</td></tr>\n",
       "\t<tr><th scope=row>Dependents</th><td>1.31684626</td></tr>\n",
       "\t<tr><th scope=row>PhoneService1</th><td>0.08162492</td></tr>\n",
       "\t<tr><th scope=row>MultipleLines1</th><td>2.17307569</td></tr>\n",
       "\t<tr><th scope=row>InternetService1</th><td>1.88447238</td></tr>\n",
       "\t<tr><th scope=row>InternetService2</th><td>1.88846458</td></tr>\n",
       "\t<tr><th scope=row>OnlineSecurity1</th><td>0.88307736</td></tr>\n",
       "\t<tr><th scope=row>OnlineBackup1</th><td>0.34720259</td></tr>\n",
       "\t<tr><th scope=row>DeviceProtection1</th><td>0.58671166</td></tr>\n",
       "\t<tr><th scope=row>TechSupport1</th><td>0.98860618</td></tr>\n",
       "\t<tr><th scope=row>StreamingTV1</th><td>1.66822936</td></tr>\n",
       "\t<tr><th scope=row>StreamingMovies1</th><td>1.47689408</td></tr>\n",
       "\t<tr><th scope=row>Contract1</th><td>5.18834117</td></tr>\n",
       "\t<tr><th scope=row>Contract2</th><td>6.38937563</td></tr>\n",
       "\t<tr><th scope=row>PaperlessBilling1</th><td>4.04003231</td></tr>\n",
       "\t<tr><th scope=row>PaymentMethod1</th><td>0.81339079</td></tr>\n",
       "\t<tr><th scope=row>PaymentMethod2</th><td>2.66294933</td></tr>\n",
       "\t<tr><th scope=row>PaymentMethod3</th><td>0.83456362</td></tr>\n",
       "</tbody>\n",
       "</table>\n"
      ],
      "text/latex": [
       "\\begin{tabular}{r|l}\n",
       "  & Overall\\\\\n",
       "\\hline\n",
       "\tSeniorCitizen1 & 1.69481930\\\\\n",
       "\ttenure & 9.12013115\\\\\n",
       "\tMonthlyCharges & 1.13123053\\\\\n",
       "\tTotalCharges & 4.79800803\\\\\n",
       "\tgender1 & 0.43907748\\\\\n",
       "\tPartner1 & 0.77974002\\\\\n",
       "\tDependents & 1.31684626\\\\\n",
       "\tPhoneService1 & 0.08162492\\\\\n",
       "\tMultipleLines1 & 2.17307569\\\\\n",
       "\tInternetService1 & 1.88447238\\\\\n",
       "\tInternetService2 & 1.88846458\\\\\n",
       "\tOnlineSecurity1 & 0.88307736\\\\\n",
       "\tOnlineBackup1 & 0.34720259\\\\\n",
       "\tDeviceProtection1 & 0.58671166\\\\\n",
       "\tTechSupport1 & 0.98860618\\\\\n",
       "\tStreamingTV1 & 1.66822936\\\\\n",
       "\tStreamingMovies1 & 1.47689408\\\\\n",
       "\tContract1 & 5.18834117\\\\\n",
       "\tContract2 & 6.38937563\\\\\n",
       "\tPaperlessBilling1 & 4.04003231\\\\\n",
       "\tPaymentMethod1 & 0.81339079\\\\\n",
       "\tPaymentMethod2 & 2.66294933\\\\\n",
       "\tPaymentMethod3 & 0.83456362\\\\\n",
       "\\end{tabular}\n"
      ],
      "text/markdown": [
       "\n",
       "| <!--/--> | Overall |\n",
       "|---|---|\n",
       "| SeniorCitizen1 | 1.69481930 |\n",
       "| tenure | 9.12013115 |\n",
       "| MonthlyCharges | 1.13123053 |\n",
       "| TotalCharges | 4.79800803 |\n",
       "| gender1 | 0.43907748 |\n",
       "| Partner1 | 0.77974002 |\n",
       "| Dependents | 1.31684626 |\n",
       "| PhoneService1 | 0.08162492 |\n",
       "| MultipleLines1 | 2.17307569 |\n",
       "| InternetService1 | 1.88447238 |\n",
       "| InternetService2 | 1.88846458 |\n",
       "| OnlineSecurity1 | 0.88307736 |\n",
       "| OnlineBackup1 | 0.34720259 |\n",
       "| DeviceProtection1 | 0.58671166 |\n",
       "| TechSupport1 | 0.98860618 |\n",
       "| StreamingTV1 | 1.66822936 |\n",
       "| StreamingMovies1 | 1.47689408 |\n",
       "| Contract1 | 5.18834117 |\n",
       "| Contract2 | 6.38937563 |\n",
       "| PaperlessBilling1 | 4.04003231 |\n",
       "| PaymentMethod1 | 0.81339079 |\n",
       "| PaymentMethod2 | 2.66294933 |\n",
       "| PaymentMethod3 | 0.83456362 |\n",
       "\n"
      ],
      "text/plain": [
       "                  Overall   \n",
       "SeniorCitizen1    1.69481930\n",
       "tenure            9.12013115\n",
       "MonthlyCharges    1.13123053\n",
       "TotalCharges      4.79800803\n",
       "gender1           0.43907748\n",
       "Partner1          0.77974002\n",
       "Dependents        1.31684626\n",
       "PhoneService1     0.08162492\n",
       "MultipleLines1    2.17307569\n",
       "InternetService1  1.88447238\n",
       "InternetService2  1.88846458\n",
       "OnlineSecurity1   0.88307736\n",
       "OnlineBackup1     0.34720259\n",
       "DeviceProtection1 0.58671166\n",
       "TechSupport1      0.98860618\n",
       "StreamingTV1      1.66822936\n",
       "StreamingMovies1  1.47689408\n",
       "Contract1         5.18834117\n",
       "Contract2         6.38937563\n",
       "PaperlessBilling1 4.04003231\n",
       "PaymentMethod1    0.81339079\n",
       "PaymentMethod2    2.66294933\n",
       "PaymentMethod3    0.83456362"
      ]
     },
     "metadata": {},
     "output_type": "display_data"
    }
   ],
   "source": [
    "# Variáveis mais importantes\n",
    "varImp(GLM_v1)"
   ]
  },
  {
   "cell_type": "code",
   "execution_count": 87,
   "metadata": {},
   "outputs": [],
   "source": [
    "# Construindo o modelo de regressão logística v2\n",
    "GLM_v2 <- glm(Churn ~tenure+Contract+PaperlessBilling+TotalCharges\n",
    "              +PaymentMethod+MultipleLines, dados_treino_scaled, family = \"binomial\")"
   ]
  },
  {
   "cell_type": "code",
   "execution_count": 88,
   "metadata": {},
   "outputs": [
    {
     "data": {
      "text/plain": [
       "\n",
       "Call:\n",
       "glm(formula = Churn ~ tenure + Contract + PaperlessBilling + \n",
       "    TotalCharges + PaymentMethod + MultipleLines, family = \"binomial\", \n",
       "    data = dados_treino_scaled)\n",
       "\n",
       "Deviance Residuals: \n",
       "    Min       1Q   Median       3Q      Max  \n",
       "-1.6178  -0.7613  -0.2999   0.8408   3.6777  \n",
       "\n",
       "Coefficients:\n",
       "                  Estimate Std. Error z value Pr(>|z|)    \n",
       "(Intercept)       -1.60327    0.12068 -13.286  < 2e-16 ***\n",
       "tenure            -2.04058    0.15343 -13.300  < 2e-16 ***\n",
       "Contract1         -0.92052    0.11870  -7.755 8.82e-15 ***\n",
       "Contract2         -1.80775    0.19209  -9.411  < 2e-16 ***\n",
       "PaperlessBilling1  0.55270    0.08124   6.803 1.02e-11 ***\n",
       "TotalCharges       1.39145    0.14190   9.806  < 2e-16 ***\n",
       "PaymentMethod1    -0.11740    0.12671  -0.927  0.35417    \n",
       "PaymentMethod2     0.49218    0.10452   4.709 2.49e-06 ***\n",
       "PaymentMethod3    -0.39775    0.12467  -3.190  0.00142 ** \n",
       "MultipleLines1     0.29776    0.08653   3.441  0.00058 ***\n",
       "---\n",
       "Signif. codes:  0 '***' 0.001 '**' 0.01 '*' 0.05 '.' 0.1 ' ' 1\n",
       "\n",
       "(Dispersion parameter for binomial family taken to be 1)\n",
       "\n",
       "    Null deviance: 6108.6  on 5274  degrees of freedom\n",
       "Residual deviance: 4580.4  on 5265  degrees of freedom\n",
       "AIC: 4600.4\n",
       "\n",
       "Number of Fisher Scoring iterations: 6\n"
      ]
     },
     "metadata": {},
     "output_type": "display_data"
    }
   ],
   "source": [
    "# Sumário modelo 2\n",
    "summary(GLM_v2)"
   ]
  },
  {
   "cell_type": "code",
   "execution_count": 89,
   "metadata": {},
   "outputs": [],
   "source": [
    "# Fazendo previsões\n",
    "GlmPredict2 <- predict(GLM_v2, dados_teste_scaled, type = \"response\")\n",
    "GlmPredict2 <- round(GlmPredict2)"
   ]
  },
  {
   "cell_type": "code",
   "execution_count": 90,
   "metadata": {},
   "outputs": [
    {
     "data": {
      "text/plain": [
       "Confusion Matrix and Statistics\n",
       "\n",
       "           \n",
       "GlmPredict2    0    1\n",
       "          0 1139  221\n",
       "          1  151  246\n",
       "                                          \n",
       "               Accuracy : 0.7883          \n",
       "                 95% CI : (0.7684, 0.8072)\n",
       "    No Information Rate : 0.7342          \n",
       "    P-Value [Acc > NIR] : 8.833e-08       \n",
       "                                          \n",
       "                  Kappa : 0.4303          \n",
       "                                          \n",
       " Mcnemar's Test P-Value : 0.0003469       \n",
       "                                          \n",
       "            Sensitivity : 0.8829          \n",
       "            Specificity : 0.5268          \n",
       "         Pos Pred Value : 0.8375          \n",
       "         Neg Pred Value : 0.6196          \n",
       "             Prevalence : 0.7342          \n",
       "         Detection Rate : 0.6483          \n",
       "   Detection Prevalence : 0.7740          \n",
       "      Balanced Accuracy : 0.7049          \n",
       "                                          \n",
       "       'Positive' Class : 0               \n",
       "                                          "
      ]
     },
     "metadata": {},
     "output_type": "display_data"
    }
   ],
   "source": [
    "# Confusion Matrix\n",
    "confusionMatrix(table(GlmPredict2, dados_teste_scaled$Churn))"
   ]
  },
  {
   "cell_type": "markdown",
   "metadata": {},
   "source": [
    "### Sumário Avaliação dos Modelos"
   ]
  },
  {
   "cell_type": "markdown",
   "metadata": {},
   "source": [
    "**1. KNN**  <br>\n",
    "Modelo 1  <br>\n",
    "Accuracy: 0.8105 <br>\n",
    "Sensitivity : 0.8853  <br>\n",
    "Specificity : 0.6039 \n",
    "\n",
    " <br>\n",
    "Modelo 2  <br>\n",
    "Accuracy: 0.7934 <br>\n",
    "Sensitivity : 0.9008  <br>         \n",
    "Specificity : 0.4968  <br> \n",
    " <br>\n",
    " \n",
    "**2. Random Forest**  <br>\n",
    "Modelo 1 <br>\n",
    "Accuracy: 0.8088 <br>\n",
    "Sensitivity : 0.9116 <br>\n",
    "Specificity : 0.5246  \n",
    "   <br>\n",
    "Modelo 2 <br>\n",
    "Accuracy: 0.8054 <br>\n",
    "Sensitivity : 0.8946  <br>\n",
    "Specificity : 0.5589  <br>\n",
    "<br>\n",
    "**3. Regressão Logística**  <br>\n",
    "Modelo 1 <br>\n",
    "Accuracy: 0.8042 <br>\n",
    "Sensitivity : 0.8829  <br>\n",
    "Specificity : 0.5867 <br>\n",
    "<br>\n",
    "Modelo 2 <br>\n",
    "Accuracy: 0.7883 <br>\n",
    "Sensitivity : 0.8829   <br>\n",
    "Specificity : 0.5268  <br>"
   ]
  },
  {
   "cell_type": "markdown",
   "metadata": {},
   "source": [
    "**CONCLUSÃO:**\n",
    "* Os modelos utilizando todas as variáveis independentes, nos três algorítmos, obtiveram desempenho superior aos modelos que utilizavam a seleção das variáveis mais importantes.<br>\n",
    "* O algorítmo KNN obteve o melhor desempenho em comparação ao Random Forest e Regressão Logística, com acurácia de 0.8105.<br>\n",
    "* Além de maior acurácia, o primeiro modelo do KNN demonstrou maior balanceamento entre sensibilidade e especificidade, com  0.8853 e  0.6039 respectivamente.<br>\n",
    "* Os dois modelos do Random Forest obtiveram valores semelhantes de acurácia com 0.8088 e 0.8054, respectivamente.<br>\n",
    "* A menor acurácia foi a do modelo 2 da Regressão logística, com o valor de 0.7883.<br>"
   ]
  },
  {
   "cell_type": "markdown",
   "metadata": {},
   "source": [
    "DIEGO RAMIREZ <br>\n",
    "daarfarias@hotmail.com <br>\n",
    "https://github.com/daarfarias"
   ]
  }
 ],
 "metadata": {
  "colab": {
   "collapsed_sections": [],
   "name": "Telecom.ipynb",
   "provenance": []
  },
  "kernelspec": {
   "display_name": "R",
   "language": "R",
   "name": "ir"
  },
  "language_info": {
   "codemirror_mode": "r",
   "file_extension": ".r",
   "mimetype": "text/x-r-source",
   "name": "R",
   "pygments_lexer": "r",
   "version": "3.6.1"
  }
 },
 "nbformat": 4,
 "nbformat_minor": 1
}
